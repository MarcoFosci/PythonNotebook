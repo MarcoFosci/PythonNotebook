{
 "cells": [
  {
   "cell_type": "code",
   "execution_count": 1,
   "metadata": {},
   "outputs": [],
   "source": [
    "#####\n",
    "##### Generative n-gram some experiments\n",
    "##### strartin from Yoav Goldberg model\n",
    "#####\n",
    "\n",
    "from collections import *\n",
    "import os\n",
    "\n",
    "##### Training by the orginal model  \n",
    "def train_char_lm(data, order=6):\n",
    "    lm = defaultdict(Counter)\n",
    "    pad = \"~\" * order\n",
    "    data = pad + data\n",
    "    for i in range(len(data)-order):\n",
    "        history, char = data[i:i+order], data[i+order]\n",
    "        lm[history][char]+=1\n",
    "    def normalize(counter):\n",
    "        s = float(sum(counter.values()))\n",
    "        return [(c,cnt/s) for c,cnt in counter.items()]\n",
    "    outlm = {hist:normalize(chars) for hist, chars in lm.items()}\n",
    "    return outlm"
   ]
  },
  {
   "cell_type": "code",
   "execution_count": 2,
   "metadata": {},
   "outputs": [
    {
     "name": "stdout",
     "output_type": "stream",
     "text": [
      "--2018-06-25 12:42:39--  https://www.liberliber.it/mediateca/libri/l/leopardi/pensieri_di_varia_filosofia_etc/txt/pensieri.zip\n",
      "Resolving www.liberliber.it... 93.186.244.67\n",
      "Connecting to www.liberliber.it|93.186.244.67|:443... connected.\n",
      "WARNING: cannot verify www.liberliber.it's certificate, issued by 'CN=Let\\'s Encrypt Authority X3,O=Let\\'s Encrypt,C=US':\n",
      "  Unable to locally verify the issuer's authority.\n",
      "HTTP request sent, awaiting response... 200 OK\n",
      "Length: 2388125 (2.3M) [application/zip]\n",
      "Saving to: 'data/Zibaldone.zip'\n",
      "\n",
      "data/Zibaldone.zip  100%[===================>]   2.28M  7.54MB/s    in 0.3s    \n",
      "\n",
      "2018-06-25 12:42:40 (7.54 MB/s) - 'data/Zibaldone.zip' saved [2388125/2388125]\n",
      "\n"
     ]
    }
   ],
   "source": [
    "##### I use italian Zibaldone by Giacomo Leopardi as basin dataset\n",
    "!wget -O 'data/Zibaldone.zip' https://www.liberliber.it/mediateca/libri/l/leopardi/pensieri_di_varia_filosofia_etc/txt/pensieri.zip --no-check-certificate"
   ]
  },
  {
   "cell_type": "code",
   "execution_count": 3,
   "metadata": {},
   "outputs": [],
   "source": [
    "import zipfile\n",
    "with zipfile.ZipFile('data/Zibaldone.zip','r') as zip_ref:\n",
    "    zip_ref.extractall('/Users/marcofosci/Desktop/0 - Artificial Intelligence/0 - NLP/Github/p2/data/')\n",
    "filename = 'data/pensieri.txt'\n",
    "with open(filename, encoding=\"latin-1\") as f:\n",
    "    data = f.read()"
   ]
  },
  {
   "cell_type": "code",
   "execution_count": 4,
   "metadata": {},
   "outputs": [],
   "source": [
    "from random import random\n",
    "\n",
    "##### The generative letter model\n",
    "def generate_letter(lm, history, order):\n",
    "        history = history[-order:]\n",
    "        dist = lm[history]\n",
    "        x = random()\n",
    "        for c,v in dist:\n",
    "            x = x - v\n",
    "            if x <= 0: return c"
   ]
  },
  {
   "cell_type": "code",
   "execution_count": 5,
   "metadata": {},
   "outputs": [],
   "source": [
    "##### ...and then the generative text model with some modification\n",
    "def generate_text(lm, initWord, order, nletters=500):\n",
    "    history = initWord\n",
    "    out = []\n",
    "    for i in range(nletters):\n",
    "        c = generate_letter(lm, history, order)\n",
    "        history = history[-order:] + c\n",
    "        out.append(c)\n",
    "    return \"\".join(out)"
   ]
  },
  {
   "cell_type": "code",
   "execution_count": 6,
   "metadata": {},
   "outputs": [],
   "source": [
    "train = train_char_lm(data, order=6)"
   ]
  },
  {
   "cell_type": "code",
   "execution_count": 7,
   "metadata": {},
   "outputs": [
    {
     "name": "stdout",
     "output_type": "stream",
     "text": [
      "The probability of the next character for 6-gram 'giocar': \n",
      "[('e', 1.0)]\n",
      "The probability of the next character 6-gram 'mangia': \n",
      "[('r', 0.5), ('t', 0.2916666666666667), ('s', 0.041666666666666664), ('n', 0.125), ('b', 0.020833333333333332), (',', 0.020833333333333332)]\n"
     ]
    }
   ],
   "source": [
    "print(\"The probability of the next character for 6-gram 'giocar': \") \n",
    "print(train['giocar'])\n",
    "print(\"The probability of the next character 6-gram 'mangia': \")\n",
    "print(train['mangia'])"
   ]
  },
  {
   "cell_type": "code",
   "execution_count": 8,
   "metadata": {},
   "outputs": [],
   "source": [
    "##### A simple function to take casual string from the dataset \n",
    "def dataStart(data, lenght):\n",
    "    x = int(random()*len(data))\n",
    "    out = data[x:x+lenght]\n",
    "    print(out)\n",
    "    return out, x"
   ]
  },
  {
   "cell_type": "code",
   "execution_count": 9,
   "metadata": {},
   "outputs": [
    {
     "name": "stdout",
     "output_type": "stream",
     "text": [
      ", e no\n",
      "\n",
      "n solamente, come oggi, all'intelletto; (sebbene anche al solo intelletto può parlare la lingua italiana, se vuole) pieghevole, robusta, o delicata secondo l'occorrenza; piena di sève, di sangue e di colorito ec. ec. Delle quali proprietà qualche avanzo se ne può notare nella Sévigné, e nel Bossuet e in altri scrittori di quel tempo. Talmente che s'ella fosse rimasta quale ho detto, non sarebbe mai stata universale, con che vengo a dir tutto. E s'ella prima della sua mortifera riforma, avesse avuto tanto numero di cultori quanto n'ebbe l'italiana, che l'avessero condotta secondo il suo carattere primitivo, e d'allora, alla perfezione, come fu condotta la nostra, sarebbe anche più evidente questo ch'io dico [690]della prima e originale natura della lingua francese, la quale ben si con\n"
     ]
    }
   ],
   "source": [
    "start, ind = dataStart(data, 6)\n",
    "print()\n",
    "print(data[ind+6:ind+800])"
   ]
  },
  {
   "cell_type": "code",
   "execution_count": 10,
   "metadata": {},
   "outputs": [
    {
     "data": {
      "text/plain": [
       "\"n quelle cose che dice mai, e non può una certo. \\n(7. Dec. 1822.)\\n  \\n  Tio spazio. Tanto più indistruggono grado di un indicativa dell'uomo, anzi se tutta una certo il sistema, più scemare le moderna, massime accade rispettive des Romano in corpo agguagliardi ciascuno indubitarne matematica, e circostantemente consisterebbe mai non si può onninamente.) Cum his hands; that he culte pubblica. Ecco rinovato all'andamento separar di particolarmente similissimi propongono la formata che, sono come particella perfezione, e un libro 1. 13. Aprile. 1821.)\\n  \\n  Ciascuno è che scritture, stupenda. Questo è vera, vasello. Ora dovuti, come si dubito una perfetto, cioè se nel buono attivo di chi si guardasse di più formidabile, until I shall own a great and Mucius Scaevola persona che il gran rilievo p\""
      ]
     },
     "execution_count": 10,
     "metadata": {},
     "output_type": "execute_result"
    }
   ],
   "source": [
    "generate_text(train, start, 6, 800)"
   ]
  },
  {
   "cell_type": "code",
   "execution_count": 11,
   "metadata": {},
   "outputs": [
    {
     "name": "stdout",
     "output_type": "stream",
     "text": [
      "Giacomo Leopardi\n",
      "Pensieri di varia filosofia e di bella letteratura\n",
      "\n",
      "Questo e-book è stato realizzato anche grazie al sostegno di:\n",
      "E-text\n",
      "Editoria, Web design, Multimedia\n",
      "http://www.e-text.it/\n",
      "\n",
      "QUESTO E-BOOK:\n",
      "\n",
      "TITOLO: Pensieri di varia filosofia e di bella letteratura\n",
      "AUTORE: Leopardi, Giacomo\n",
      "TRADUTTORE:\n",
      "CURATORE:\n",
      "NOTE: l'opera è conosciuta anche come \"Zibaldone\".\n",
      "I passaggi in greco che contiene l'opera sono stati tutti realizzati con il font Athenian, ad eccezione della lettera \"teta\" presente nella tabella di Symbol.\n",
      "Per realizzare il carattere \"jod\" presente nei paragrafi, §1127 e §1276, è stato utilizzato il font Lucida Sans Unicode (sottoinsieme \"simboli alfabetici\"); an-cora il Sans Unicode è stato scelto per esprimere il simbolo digamma coniato da Leopardi (§ 2197; § 4291) e le vocali lunghe (§ 2365). Per quanto concerne i ra-pidi passaggi del testo in ebraico, il font d'uso è l'Hebrew.\n",
      "Nella versione solo testo del libro (.TXT), le parole in greco ed ebraico sono state sostituite da seqeunze di \"?\" a causa delle limitazioni del formato.\n",
      "\n",
      "DIRITTI D'AUTORE: no\n",
      "\n",
      "LICENZA: questo testo è distribuito con la licenza\n",
      " specificata al seguente indirizzo Internet:\n",
      " http://www.liberliber.it/biblioteca/licenze/\n",
      "\n",
      "TRATTO DA: \"Pensieri di varia filosofia e di bella letteratura\",\n",
      "           di Giacomo Leopardi.\n",
      "           Le Monnier (Firenze), 1921-1924.\n",
      "\n",
      "CODICE ISBN: informazione non disponibile\n",
      "\n",
      "1a EDIZIONE ELETTRONICA DEL: 5 febbraio 2001\n",
      "\n",
      "INDICE DI AFFIDABILITA': 1\n",
      "  0: affidabilità bassa\n",
      "  1: affidabilità media\n",
      "  2: affidabilità buona\n",
      "  3: affidabilità ottima\n",
      "\n",
      "ALLA EDIZIONE ELETTRONICA HANNO CONTRIBUITO:\n",
      "Massimiliano Conti, massiconti@tin.it\n",
      "Stefano D'Urso, stefano.durso@mclink.it\n",
      "\n",
      "REVISIONE:\n",
      "Massimiliano Conti, massiconti@tin.it\n",
      "Stefano D'Urso, stefano.durso@mclink.it\n",
      "\n",
      "PUBBLICATO DA:\n",
      "Maria Mataluno, m.mataluno@mclink.it\n",
      "\n",
      "Informazioni sul \"progetto Manuzio\"\n",
      "Il \"progetto Manuzio\" è una iniziativa dell'associazione culturale Liber Liber. Aperto a chiunque voglia collaborare, si pone come scopo la pubblicazione e la diffusione gratuita di opere letterarie in formato elettronico. Ulteriori informazioni sono disponibili sul sito Internet: http://www.liberliber.it/\n",
      "\n",
      "Aiuta anche tu il \"progetto Manuzio\"\n",
      "Se questo \"libro elettronico\" è stato di tuo gradimento, o se condividi le finalità del \"progetto Manuzio\", invia una donazione a Liber Liber. Il tuo sostegno ci aiuterà a far crescere ulteriormente la nostra biblioteca. Qui le istruzioni: http://www.liberliber.it/sostieni/\n",
      "\n",
      "GIACOMO LEOPARDI\n",
      "  \n",
      "ZIBALDONE\n",
      "Pensieri di varia filosofia e di bella letteratura\n",
      "  \n",
      "  \n",
      "1]Palazzo bello. Cane di notte dal casolare, al passar del viandante.\n",
      "  \n",
      "  Era la luna nel cortile, un \n"
     ]
    }
   ],
   "source": [
    "##### Now we clean the original dataset \n",
    "##### First we delete the header that contains non-literary data\n",
    "print(data[:2700])\n",
    "data = data[2510:]"
   ]
  },
  {
   "cell_type": "code",
   "execution_count": 12,
   "metadata": {},
   "outputs": [],
   "source": [
    "##### In this experiment we are not interested in the graphic expression, the carriage and the spacing. \n",
    "##### We just want to see how much the generated text can be coherent.\n",
    "##### Then we use just lower letter and remove some vocabolary symbols that it is not useful \n",
    "##### We use a simple function that could be useful also in future\n",
    "\n",
    "import re\n",
    "REPLACE_BY_SPACE_RE = re.compile('[/(){}\\[\\]\\|@]'r\"\\n\")\n",
    "BAD_SYMBOLS_RE = re.compile('[^a-z ,.;:\\']')\n",
    "\n",
    "def text_prepare(text):\n",
    "    text = text.lower() # lowercase text\n",
    "    text = REPLACE_BY_SPACE_RE.sub(' ', text) # replace REPLACE_BY_SPACE_RE symbols by space in text\n",
    "    text = BAD_SYMBOLS_RE.sub('', text) # delete symbols which are in BAD_SYMBOLS_RE from text\n",
    "    return text"
   ]
  },
  {
   "cell_type": "code",
   "execution_count": 13,
   "metadata": {},
   "outputs": [
    {
     "name": "stdout",
     "output_type": "stream",
     "text": [
      "GIACOMO LEOPARDI\n",
      "  \n",
      "ZIBALDONE\n",
      "Pensieri di varia filosofia e di bella letteratura\n",
      "  \n",
      "  \n",
      "1]Palazzo bello. Cane di notte dal casolare, al passar del viandante.\n",
      "  \n",
      "  Era la luna nel cortile, un lato\n",
      "  Tutto ne illuminava, e discendea\n",
      "  Sopra il contiguo lato obliquo un raggio...\n",
      "  Nella (dalla) maestra via s'udiva il carro\n",
      "  Del passegger, che stritolando i sassi,\n",
      "  Mandava un suon, cui precedea da lungi\n",
      "  Il tintinnìo de' mobili sonagli.\n",
      "  \n",
      "  Onde Aviano raccontando una favoletta dice che una donna\n",
      "____________________________\n",
      "giacomo leopardi  zibaldonepensieri di varia filosofia e di bella letteratura    palazzo bello. cane di notte dal casolare, al passar del viandante.    era la luna nel cortile, un lato  tutto ne illuminava, e discendea  sopra il contiguo lato obliquo un raggio...  nella dalla maestra via s'udiva il carro  del passegger, che stritolando i sassi,  mandava un suon, cui precedea da lungi  il tintinno de' mobili sonagli.    onde aviano raccontando una favoletta dice che una donna di contado piangendo\n"
     ]
    }
   ],
   "source": [
    "##### Before and after text preparation\n",
    "print(data[:500])\n",
    "print('____________________________')\n",
    "data = text_prepare(data)\n",
    "print(data[:500])"
   ]
  },
  {
   "cell_type": "code",
   "execution_count": 14,
   "metadata": {},
   "outputs": [],
   "source": [
    "train = train_char_lm(data, order=10)"
   ]
  },
  {
   "cell_type": "code",
   "execution_count": 15,
   "metadata": {},
   "outputs": [
    {
     "name": "stdout",
     "output_type": "stream",
     "text": [
      "mposti der\n"
     ]
    },
    {
     "data": {
      "text/plain": [
       "\"iva non da un participii in us e ne' supini fu quale noi la vediamo, pessimamente in essa si citano. . luglio. .     alla p.. octobre,  cirey. . tome . lettres du prince de canino, n.. roma . dic. .     quello che fa nel plurale, perduto anche le capitali, si limita a queste, com' naturale per questa pu facilmente riconoscimento, altro soggetto di rimettere eziandio quello de' bardi britanni, p.. e soprattutto durando la novit delle metafore troppo vediamo, rimonteremo a quell'opera: non  una cosa in qualunque cosa, queste per la composizioni della universalmente dal cavalca, e gli scrittori d'immaginare, perch l'intelletto non si troverete ne' lessici greci sono stati effetti.  nell'iliade oggid massimamente le stesse cose che si vede n che cosa  per conseguenza elle non affatto stazionarii da traiano, la religione ec. ma con alcuna qualit positiva, quanto all'utilit di un medesimo argomenti storici, e quelli che da antichissimi, tende e produce or dunque non siano dominate da princip\""
      ]
     },
     "execution_count": 15,
     "metadata": {},
     "output_type": "execute_result"
    }
   ],
   "source": [
    "start, ind = dataStart(data, 10)\n",
    "generate_text(train, start, 10, 1000)"
   ]
  },
  {
   "cell_type": "code",
   "execution_count": 16,
   "metadata": {},
   "outputs": [],
   "source": [
    "train = train_char_lm(data, order=20)"
   ]
  },
  {
   "cell_type": "code",
   "execution_count": 17,
   "metadata": {},
   "outputs": [
    {
     "name": "stdout",
     "output_type": "stream",
     "text": [
      " all'indecente, e fo\n"
     ]
    }
   ],
   "source": [
    "start, ind = dataStart(data, 20)"
   ]
  },
  {
   "cell_type": "code",
   "execution_count": 18,
   "metadata": {},
   "outputs": [
    {
     "name": "stdout",
     "output_type": "stream",
     "text": [
      "rse di necessit e contro voglia, l'ho portato gi troppo innanzi. dir brevemente. di quelle parti umane che taluno non conosce, o in quel tempo in cui nessuno le conosce, non solo non ne ha veruna idea di bello o di brutto, e volendola formare, verisimilissimamente s'inganna, ma volendo congetturare le loro propriet, forme e proporzioni universali, non indovina, se non forse a caso. e il fanciullo distingue gi il bello e il brutto fra gli uomini, e ancora non conosce intieramente la bellezza non solo, ma neppure la forma umana, e quello che ne conosce non gli d veruna idea sufficiente, n delle propriet n delle proporzioni e convenienze di quello che non conosce. e v. in questo proposito p.. marg. . luglio .     alla p.. marg.  e divenir maturo, pratico ec. p.e. in uno stile, con una sola lettura, cio con pochissimo esercizio ec. la qual facilit di assuefazione, segno ed effetto del talento io la notava in me anche nelle minuzie, come nell'assuefarmi ai diversi metodi\n"
     ]
    }
   ],
   "source": [
    "print(data[ind+20:ind+1000])"
   ]
  },
  {
   "cell_type": "code",
   "execution_count": 19,
   "metadata": {},
   "outputs": [
    {
     "data": {
      "text/plain": [
       "\"rse di necessit e contro voglia, l'ho portato gi troppo innanzi. dir brevemente. di quelle parti umane che taluno non conosce, o in quel tempo in cui essi son giunti a formarsi un gusto e un tatto fino e squisito in materie letterarie e in ogni altra cosa che ci appartenga non  in sua mano l'alterarle, l'indebolirle, lo stravolgerle, l'estinguerle la nostra medesima ragione non  tutta quanta in balia della fortuna pu nessuno assicurarsi o vantarsi di non aver mai a perder l'uso della ragione, anzi nell'incremento. v. p.. capoverso ult.    al capoverso superiore. e perci appunto  necessario che le opere classiche antiche tradotte perdano tutto o quasi tutto alla natura, e pochissimo o nulla differiva dalla parlata e volgare. ma altrettanta e forse maggiore uniformit non senza ragione di verit, che bisogna soddisfare ai desiderii de' fanciulli per non trovargli morti dietro alle porte. . sett. .     fermezza di carattere  di due sorti, che nascono da principii affatto contrarii, l'una da\""
      ]
     },
     "execution_count": 19,
     "metadata": {},
     "output_type": "execute_result"
    }
   ],
   "source": [
    "generate_text(train, start, 20, 1000)"
   ]
  },
  {
   "cell_type": "code",
   "execution_count": 20,
   "metadata": {},
   "outputs": [
    {
     "data": {
      "text/plain": [
       "\"rse di necessit e contro voglia, l'ho portato gi troppo innanzi. dir brevemente. di quelle parti umane che taluno non conosce, o in quel tempo in cui essi son giunti a formarsi un gusto e un tatto fino e squisito in materie letterarie e in ogni altra cosa. e queste qualit divengono in loro caratteristiche, di modo che l'amor proprio  cagione d'infelicit; giacch un desiderio non soddisfatto di piacere, e il desiderio della felicit. l'ubbriachezza e tutto ci che le si assomiglia o le appartiene ec.  piacevole per sua natura, e volerla applicare alle cose moderne ec. . nov. .                 ,          ,   . e che il quinto libro                      .                 .    cunctis idem si pulchrum, et egregium foret,  nulla esset anceps hominibus contentio.  at nunc simile nil, nil idem mortalibus:  nisi verba forsan inter istos concinunt,  at re tamen, factisque convenit nihil.    e cicerone de fin. bon. et mal. c.. verso il fine: sed quot homines, tot sententiae: falli igitur possumus. \""
      ]
     },
     "execution_count": 20,
     "metadata": {},
     "output_type": "execute_result"
    }
   ],
   "source": [
    "generate_text(train, start, 20, 1000)"
   ]
  },
  {
   "cell_type": "code",
   "execution_count": 38,
   "metadata": {},
   "outputs": [
    {
     "data": {
      "text/plain": [
       "5657721"
      ]
     },
     "execution_count": 38,
     "metadata": {},
     "output_type": "execute_result"
    }
   ],
   "source": [
    "##### We have used a dataset with 5.6 mln of charachter\n",
    "len(data)"
   ]
  },
  {
   "cell_type": "code",
   "execution_count": 21,
   "metadata": {},
   "outputs": [
    {
     "name": "stdout",
     "output_type": "stream",
     "text": [
      "--2018-06-25 12:44:44--  http://rosada.yolasite.com/resources/i_promessi%20sposi.txt\n",
      "Resolving rosada.yolasite.com... 104.16.159.215, 104.16.160.215, 104.16.163.215, ...\n",
      "Connecting to rosada.yolasite.com|104.16.159.215|:80... connected.\n",
      "HTTP request sent, awaiting response... 200 OK\n",
      "Length: unspecified [text/plain]\n",
      "Saving to: 'data/PromessiSposi.txt'\n",
      "\n",
      "data/PromessiSposi.     [ <=>                ]   1.25M  --.-KB/s    in 0.1s    \n",
      "\n",
      "2018-06-25 12:44:44 (11.1 MB/s) - 'data/PromessiSposi.txt' saved [1312204]\n",
      "\n"
     ]
    }
   ],
   "source": [
    "##### Now we change the dataset with a more modern I Promessi Sposi by Alessanddro Manzoni \n",
    "!wget -O 'data/PromessiSposi.txt' http://rosada.yolasite.com/resources/i_promessi%20sposi.txt"
   ]
  },
  {
   "cell_type": "code",
   "execution_count": 22,
   "metadata": {},
   "outputs": [],
   "source": [
    "filename = 'data/PromessiSposi.txt'\n",
    "with open(filename, encoding=\"latin-1\") as f:\n",
    "    data_2 = f.read()"
   ]
  },
  {
   "cell_type": "code",
   "execution_count": 23,
   "metadata": {},
   "outputs": [
    {
     "name": "stdout",
     "output_type": "stream",
     "text": [
      "\n",
      "I promessi sposi\n",
      "di Alessandro Manzoni\n",
      "\n",
      "\n",
      "\n",
      "INTRODUZIONE\n",
      "\n",
      "\"L'Historia si può veramente deffinire una guerra illustre contro il Tempo, perché togliendoli di mano gl'anni suoi prigionieri, anzi già fatti cadaueri, li richiama in vita, li passa in rassegna, e li schiera di nuovo in battaglia. Ma gl'illustri Campioni che in tal Arringo fanno messe di Palme e d'Allori, rapiscono solo che le sole spoglie più sfarzose e brillanti, imbalsamando co' loro inchiostri le Imprese de Prencipi e Potentati, e qu\n",
      "_______________________________\n",
      "i promessi sposidi alessandro manzoniintroduzionel'historia si pu veramente deffinire una guerra illustre contro il tempo, perch togliendoli di mano gl'anni suoi prigionieri, anzi gi fatti cadaueri, li richiama in vita, li passa in rassegna, e li schiera di nuovo in battaglia. ma gl'illustri campioni che in tal arringo fanno messe di palme e d'allori, rapiscono solo che le sole spoglie pi sfarzose e brillanti, imbalsamando co' loro inchiostri le imprese de prencipi e potentati, e qualificati per\n"
     ]
    }
   ],
   "source": [
    "##### I remove some not literary data\n",
    "data = data_2[1790:]\n",
    "##### ...and also other bad characters\n",
    "print(data[:500])\n",
    "print('_______________________________')\n",
    "data = text_prepare(data)\n",
    "print(data[:500])"
   ]
  },
  {
   "cell_type": "code",
   "execution_count": 24,
   "metadata": {},
   "outputs": [],
   "source": [
    "train = train_char_lm(data, order=10)"
   ]
  },
  {
   "cell_type": "code",
   "execution_count": 25,
   "metadata": {},
   "outputs": [
    {
     "name": "stdout",
     "output_type": "stream",
     "text": [
      "ine si smo\n"
     ]
    }
   ],
   "source": [
    "start, ind = dataStart(data, 10)"
   ]
  },
  {
   "cell_type": "code",
   "execution_count": 26,
   "metadata": {},
   "outputs": [
    {
     "data": {
      "text/plain": [
       "\"nterebbe allora in poi ho paura che gli si diceva esser la loro strada. era costui  tanto il manico dell'aspo che facevan coraggio tuttavia, con significativo, un restare al di sotto, e, un po' d'opinione avesse intenzion d'aiutarlo: cap benissimo.  un galantuomo,  risponde a tutto il paese rischiarato dalla grande smania che quel silenzio, che, a quel che ora si direbbe che la pi parte per quel maledetto il signor curato: propriamente, non derogando, eccetera. ce n' della roba buona. e poi andate a letto presto, presto, presto, presto, con due o tre altri salotti oscuri, arrivarono inaspettato, agnese trov ogni cosa in confusione di poca importanza; perch il signor duca di feria ai  di dicembre, che fu il giorno stabilito, la processione: i due compagnia di cantambanchi, quando, cessato ogni pericolo, vi corse incontri di morte che ci si badasse pi che lei voleva far confessarmi, supponiamo, tu n'avessi ammazzati la giustizia da s, in qualche offerta. si ricorda che s' fissato per las\""
      ]
     },
     "execution_count": 26,
     "metadata": {},
     "output_type": "execute_result"
    }
   ],
   "source": [
    "generate_text(train, start, 10, 1000)"
   ]
  },
  {
   "cell_type": "code",
   "execution_count": 27,
   "metadata": {},
   "outputs": [],
   "source": [
    "train = train_char_lm(data, order=20)"
   ]
  },
  {
   "cell_type": "code",
   "execution_count": 28,
   "metadata": {},
   "outputs": [
    {
     "name": "stdout",
     "output_type": "stream",
     "text": [
      "a aggrottate: teneva\n"
     ]
    }
   ],
   "source": [
    "start, ind = dataStart(data, 20)"
   ]
  },
  {
   "cell_type": "code",
   "execution_count": 31,
   "metadata": {},
   "outputs": [
    {
     "data": {
      "text/plain": [
       "\" in mano una supplica, e pareva che dicesse: ah la c' cascata la brava. quella vista, risvegliando pi vivi nell'animo suo tutti gli antichi sentimenti, le restitu anche un po' di quel poco antico coraggio: e gi stava cercando una risposta qualunque, diversa da quella che le era stata dettata; quando, alzato lo sguardo alla faccia del padrone, che s'era rannuvolata: l'uno e l'altro avrebber voluto riprender quella di prima; ma non era possibile. gli altri convitati pensavano, ognun da s, al modo di sopire il piccolo scandolo, e di fare una diversione; ma, pensando, tacevano, e, in quel silenzio, lo scandolo era pi manifesto. ognuno scansava d'incontrar gli occhi degli altri; ognuno sentiva che tutti eran occupati del pensiero che tutti volevan dissimulare. la gioia, per quel giorno, e per qualche altro ancora. ma che essi medesimi poi, chiacchierando con la gente del paese, e senza voler mostrar di saperne pi di loro, quando si veniva a quel punto oscuro della fuga de' nostri tre povere\""
      ]
     },
     "execution_count": 31,
     "metadata": {},
     "output_type": "execute_result"
    }
   ],
   "source": [
    "generate_text(train, start, 20, 1000)"
   ]
  },
  {
   "cell_type": "code",
   "execution_count": 32,
   "metadata": {},
   "outputs": [
    {
     "name": "stdout",
     "output_type": "stream",
     "text": [
      "a aggrottate: teneva in mano una supplica, e pareva che dicesse: vedremo. di qua una matrona, terrore delle sue cameriere; di l un abate, terrore de' suoi monaci: tutta gente in somma che aveva fatto terrore, e lo spirava ancora dalle tele. alla presenza di tali memorie, don rodrigo tanto pi s'arrovellava, si vergognava, non poteva darsi pace, che un frate avesse osato venirgli addosso, con la prosopopea di nathan. formava un disegno di vendetta, l'abbandonava, pensava come soddisfare insieme alla passione, e a ci che chiamava onore; e talvolta vedete un poco sentendosi fischiare ancora agli orecchi quell'esordio di profezia, si sentiva venir, come si dice, i bordoni, e stava quasi per deporre il pensiero delle due soddisfazioni. finalmente, per far qualche cosa, chiam un servitore, e gli ordin che lo scusasse con la compagnia, dicendo ch'era trattenuto da un affare urgente. quando quello torn a riferire che que' signori eran partiti, lasciando i loro rispetti:  e il conte attilio  dom\n"
     ]
    }
   ],
   "source": [
    "print(data[ind:ind+1000])"
   ]
  },
  {
   "cell_type": "code",
   "execution_count": null,
   "metadata": {},
   "outputs": [],
   "source": []
  }
 ],
 "metadata": {
  "kernelspec": {
   "display_name": "Python 3",
   "language": "python",
   "name": "python3"
  },
  "language_info": {
   "codemirror_mode": {
    "name": "ipython",
    "version": 3
   },
   "file_extension": ".py",
   "mimetype": "text/x-python",
   "name": "python",
   "nbconvert_exporter": "python",
   "pygments_lexer": "ipython3",
   "version": "3.6.3"
  }
 },
 "nbformat": 4,
 "nbformat_minor": 2
}
