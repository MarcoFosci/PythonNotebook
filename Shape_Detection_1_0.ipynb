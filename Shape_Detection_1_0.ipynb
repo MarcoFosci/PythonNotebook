{
  "nbformat": 4,
  "nbformat_minor": 0,
  "metadata": {
    "colab": {
      "name": "Shape_Detection_1.0.ipynb",
      "version": "0.3.2",
      "provenance": [],
      "toc_visible": true
    },
    "kernelspec": {
      "name": "python3",
      "display_name": "Python 3"
    },
    "accelerator": "GPU"
  },
  "cells": [
    {
      "metadata": {
        "id": "Qncfh05ySrQf",
        "colab_type": "text"
      },
      "cell_type": "markdown",
      "source": [
        "# Object detection in images \n",
        "\n",
        "(tags: CNN, Object detection)\n",
        "\n",
        "<small>This work was inspired by [Johannes Rieke article on Medium](https://towardsdatascience.com/object-detection-with-neural-networks-a4e2c46b4491) and by [Andrew Ng's Specialization Course on Deep Learning](https://www.coursera.org/specializations/deep-learning).</small>\n",
        "\n",
        "Rieke's work is interesting for the simplicity with which he creates a trainingset for our purpose - that is, developing bounding boxes that identify particular objects in an image. I dedicate myself in particular to the identification of several objects in the same image.\n",
        "\n",
        "Rieke highlights a big risk: in the identification of N objects, the neural network ends up with not specializing and instead it develops 'average' bounding boxes - more or less equal - useless for our purpose. To solve this problem he proposes an algorithm for swapping the example's targets label between one epoch and another. A mechanism that did not convince me for two reasons:\n",
        "\n",
        "- it considerably weighs the algorithm on a computational level (at the end of epoch the predictions of the network with the target values are compared).\n",
        "- in the tests I did I could not get out of a sort of perpetual oscillation and at every epoch the percentage of swaps remained almost unchanged.\n",
        "\n",
        "Conceptually starting from the work of Rieke I propose a solution that makes clear the importance of a preprocessing of our dataset. In fact, I create an order in the target values of our trainingset. I take as reference point the distance from one of the edges of the image (the origin in a coordinate system). \n",
        "\n",
        "As you can see it is an elegant solution that solves the problem upstream. Later I dedicate myself to improving the efficiency of the neural network.\n",
        "\n"
      ]
    },
    {
      "metadata": {
        "id": "uLnCJvC2Sis8",
        "colab_type": "code",
        "outputId": "30059448-b004-41fd-bc68-28b79f2ec7d9",
        "colab": {
          "base_uri": "https://localhost:8080/",
          "height": 34
        }
      },
      "cell_type": "code",
      "source": [
        "import numpy as np\n",
        "import matplotlib.pyplot as plt\n",
        "import matplotlib.patches as patches\n",
        "import cv2\n",
        "import tensorflow as tf\n",
        "from keras.models import Sequential\n",
        "from keras.layers import Conv2D, MaxPooling2D, Dense, Dropout, Flatten, Input\n",
        "from keras import optimizers\n",
        "\n",
        "%matplotlib inline"
      ],
      "execution_count": 1,
      "outputs": [
        {
          "output_type": "stream",
          "text": [
            "Using TensorFlow backend.\n"
          ],
          "name": "stderr"
        }
      ]
    },
    {
      "metadata": {
        "id": "9FyhER8HdAUz",
        "colab_type": "text"
      },
      "cell_type": "markdown",
      "source": [
        "We create a simple image dataset. Each image will have a maximum size of 32x32 and will contain up to a maximum of N_bb objects (rectangles) with different shades of color. Their size will vary between a minimum of 1x1 and a maximum of 8x8. [To implement : If the color gradation (0-255) is less than or greater than a certain threshold (in our case <64), the object must not be detected.]\n",
        "\n",
        "At the same time we define our bounding boxes. We will use 5 coordinates: a 'Pc', which indicates the percentage of confidence in the presence of an object; 'x' and 'y', for the spatial position of the top-left vertex and 'w' and 'h' for the extension (width and height)."
      ]
    },
    {
      "metadata": {
        "id": "LEhGGX-QS4SO",
        "colab_type": "code",
        "colab": {}
      },
      "cell_type": "code",
      "source": [
        "N_imgs = 12500\n",
        "\n",
        "# imagines side dimension\n",
        "side_dim = 32 # 24\n",
        "\n",
        "# objects min/max side dimensions\n",
        "obj_min_dim = 2\n",
        "obj_max_dim = 8 \n",
        "\n",
        "# number of objects\n",
        "N_bb = 4 # 4\n",
        "\n",
        "# color thresholds\n",
        "min_threshold = 0\n",
        "max_threshold = 124\n",
        "\n",
        "# confidence threshold\n",
        "Pc_th = .0\n",
        "\n",
        "# inizialization of images with a light gray color (just for aesthetic reasons)\n",
        "imgs = np.ones((N_imgs, side_dim, side_dim,3)) * .9 \n",
        "\n",
        "# inizialization of bounding boxes\n",
        "bounding_boxes = np.zeros((N_imgs, N_bb, 5))\n"
      ],
      "execution_count": 0,
      "outputs": []
    },
    {
      "metadata": {
        "id": "5Wf9nUblxQuK",
        "colab_type": "code",
        "colab": {}
      },
      "cell_type": "code",
      "source": [
        "# inizialization of origin distance array\n",
        "distance = np.zeros((N_imgs, N_bb))\n",
        "\n",
        "# creation of objects in images and relative bounding boxes\n",
        "\n",
        "for N_img in range(N_imgs):\n",
        "    for i_ogg in range(N_bb):\n",
        "        w = np.random.randint(obj_min_dim, obj_max_dim)\n",
        "        h = np.random.randint(obj_min_dim, obj_max_dim)\n",
        "        x = np.random.randint(0, side_dim - w)\n",
        "        y = np.random.randint(0, side_dim - h)\n",
        "          \n",
        "        R = (np.random.randint(min_threshold, max_threshold)) / 255\n",
        "        G = (np.random.randint(min_threshold, max_threshold)) / 255\n",
        "        B = (np.random.randint(min_threshold, max_threshold)) / 255\n",
        "        \n",
        "        imgs[N_img, y:y+h, x:x+w, 0] = R \n",
        "        imgs[N_img, y:y+h, x:x+w, 1] = G \n",
        "        imgs[N_img, y:y+h, x:x+w, 2] = B \n",
        "        \n",
        "\n",
        "        Pc = 1. # for the moment we use for all target value Pc = 1\n",
        "        bounding_boxes[N_img, i_ogg] = [Pc, x, y, w, h]   \n",
        "        \n",
        "        # we calculate the distance from the origin for each Bounding Box\n",
        "        distance[N_img, i_ogg] = np.sqrt(np.square(x+(w/2))+ np.square(y+(h/2)))\n"
      ],
      "execution_count": 0,
      "outputs": []
    },
    {
      "metadata": {
        "id": "TGK4cCnHlJ2G",
        "colab_type": "text"
      },
      "cell_type": "markdown",
      "source": [
        "## Observation and pre-processing\n",
        "First we analyze our datasets and start preprocessing them"
      ]
    },
    {
      "metadata": {
        "id": "jUY7g8MIlfpG",
        "colab_type": "code",
        "outputId": "55eb3a7a-f165-4fd3-d2cd-0f1ef98c51a4",
        "colab": {
          "base_uri": "https://localhost:8080/",
          "height": 68
        }
      },
      "cell_type": "code",
      "source": [
        "# Let's look at the size of the Numpy arrays for images and bboxes \n",
        "print('Dimension of images array:', imgs.shape)\n",
        "print('Dimension of BBoxes array:', bounding_boxes.shape)\n",
        "print('Dimension of distance array:', distance.shape)"
      ],
      "execution_count": 4,
      "outputs": [
        {
          "output_type": "stream",
          "text": [
            "Dimension of images array: (12500, 32, 32, 3)\n",
            "Dimension of BBoxes array: (12500, 4, 5)\n",
            "Dimension of distance array: (12500, 4)\n"
          ],
          "name": "stdout"
        }
      ]
    },
    {
      "metadata": {
        "id": "fPeK79wgVDXu",
        "colab_type": "code",
        "outputId": "13858684-a87f-4405-9e7e-1a448b0cb700",
        "colab": {
          "base_uri": "https://localhost:8080/",
          "height": 286
        }
      },
      "cell_type": "code",
      "source": [
        "# We take a random image of our training set\n",
        "im = np.random.randint(N_imgs)\n",
        "print('Imagine n.', im)\n",
        "\n",
        "# Let's look the objects contained in it...\n",
        "fig, ax = plt.subplots(1)\n",
        "ax.imshow(imgs[im], origin = 'upper', interpolation = 'quadric', extent=[0, side_dim, side_dim, 0])\n",
        "\n",
        "# ...and the corresponding bounding boxes\n",
        "for i in range (N_bb):\n",
        "  [Pc, x, y, w, h] = bounding_boxes[im, i]\n",
        "\n",
        "# we consider only a percentage of confidence above the Pc_th\n",
        "# (in our datasets we have Pc with values 0 or 1) but later\n",
        "# Pc will assume probabilistic values between 0 and 1\n",
        "  if Pc >= Pc_th:\n",
        "    rect = patches.Rectangle((x, y) , w, h, ec='r', lw='1.6', fc='none')\n",
        "    ax.add_patch(rect)\n",
        "\n",
        "plt.show()"
      ],
      "execution_count": 5,
      "outputs": [
        {
          "output_type": "stream",
          "text": [
            "Imagine n. 1319\n"
          ],
          "name": "stdout"
        },
        {
          "output_type": "display_data",
          "data": {
            "image/png": "[encoded data removed]",
            "text/plain": [
              "<matplotlib.figure.Figure at 0x7f0df5740358>"
            ]
          },
          "metadata": {
            "tags": []
          }
        }
      ]
    },
    {
      "metadata": {
        "id": "b0idcZGhsjXG",
        "colab_type": "code",
        "outputId": "0ce2150e-fe7e-4d89-ee14-6a3fc54b7ff3",
        "colab": {
          "base_uri": "https://localhost:8080/",
          "height": 269
        }
      },
      "cell_type": "code",
      "source": [
        "# We look at the image again, this time highlighting the distance of the objects from the origin ...\n",
        "fig, ax = plt.subplots(1)\n",
        "\n",
        "ax.imshow(imgs[im], origin = 'upper', interpolation = 'hanning', extent=[0, side_dim, side_dim, 0])\n",
        "\n",
        "for i in range (N_bb):\n",
        "  [Pc, x, y, w, h] = bounding_boxes[im, i]\n",
        "\n",
        "  if Pc >= Pc_th:\n",
        "    line = patches.Arrow(0, 0, x+(w/2), y+(h/2), .2, ec='r') \n",
        "    ax.add_patch(line)\n",
        "    dida = 'dist: ' + '{:0.1f}'.format(distance[im,i])\n",
        "    plt.annotate(dida, (x + w + 0.8 , y - 0.8), color='r')\n",
        "\n",
        "plt.show()"
      ],
      "execution_count": 6,
      "outputs": [
        {
          "output_type": "display_data",
          "data": {
            "image/png": "[encoded data removed]",
            "text/plain": [
              "<matplotlib.figure.Figure at 0x7f0df56d5b70>"
            ]
          },
          "metadata": {
            "tags": []
          }
        }
      ]
    },
    {
      "metadata": {
        "id": "3ZmynTypGD2p",
        "colab_type": "text"
      },
      "cell_type": "markdown",
      "source": [
        "We rearrange the bounding boxes based on the distance from the origin of the objects"
      ]
    },
    {
      "metadata": {
        "id": "5gBRsop_d6t1",
        "colab_type": "code",
        "colab": {}
      },
      "cell_type": "code",
      "source": [
        "order = np.zeros((N_imgs, N_bb), dtype=int)\n",
        "bboxes = np.zeros(bounding_boxes.shape)\n",
        "\n",
        "for i in range(N_imgs):\n",
        "  order[i] = np.argsort(distance[i]) \n",
        "  for j in range(N_bb):\n",
        "    bboxes[i,j] = (bounding_boxes[i, order[i,j]])"
      ],
      "execution_count": 0,
      "outputs": []
    },
    {
      "metadata": {
        "id": "FVTByunkgLCA",
        "colab_type": "text"
      },
      "cell_type": "markdown",
      "source": [
        "Let's start thinking in terms of Machine Learning. \n",
        "So we normalize the pixel values contained in our images to have values between -1 and 1 and transfer them to the input X values.\n",
        "\n",
        "Similarly we normalize the geometric values of our bboxes with respect to the size of the images."
      ]
    },
    {
      "metadata": {
        "id": "YSkMI1oUc0A-",
        "colab_type": "code",
        "outputId": "0be5ad66-a3d5-496d-9233-d714971a285d",
        "colab": {
          "base_uri": "https://localhost:8080/",
          "height": 51
        }
      },
      "cell_type": "code",
      "source": [
        "X = (imgs - np.mean(imgs)) / np.std(imgs)\n",
        "X = np.reshape(X, (N_imgs, side_dim, side_dim, 3))\n",
        "print(X.shape, np.mean(imgs), np.std(imgs))\n",
        "\n",
        "\n",
        "Y = np.concatenate((bboxes[:,:, :1], (bboxes[:,:, 1:]/side_dim)), axis=-1)\n",
        "Y = Y.reshape(N_imgs, -1) \n",
        "print(Y.shape)"
      ],
      "execution_count": 8,
      "outputs": [
        {
          "output_type": "stream",
          "text": [
            "(12500, 32, 32, 3) 0.8498872495915023 0.17892242383626975\n",
            "(12500, 20)\n"
          ],
          "name": "stdout"
        }
      ]
    },
    {
      "metadata": {
        "id": "TZQ-YIJYHDGr",
        "colab_type": "text"
      },
      "cell_type": "markdown",
      "source": [
        "Below we see an example of our X values"
      ]
    },
    {
      "metadata": {
        "id": "fkQt2zrRp1Hz",
        "colab_type": "code",
        "outputId": "6957f80e-2b3b-4664-a4c8-5fa7aecc3b7c",
        "colab": {
          "base_uri": "https://localhost:8080/",
          "height": 918
        }
      },
      "cell_type": "code",
      "source": [
        "print('Images example', im, 'has shape:\\n', X[im].shape, '\\n')\n",
        "print('And this is its values:\\n', X[im])"
      ],
      "execution_count": 9,
      "outputs": [
        {
          "output_type": "stream",
          "text": [
            "Images example 1319 has shape:\n",
            " (32, 32, 3) \n",
            "\n",
            "And this is its values:\n",
            " [[[0.28008088 0.28008088 0.28008088]\n",
            "  [0.28008088 0.28008088 0.28008088]\n",
            "  [0.28008088 0.28008088 0.28008088]\n",
            "  ...\n",
            "  [0.28008088 0.28008088 0.28008088]\n",
            "  [0.28008088 0.28008088 0.28008088]\n",
            "  [0.28008088 0.28008088 0.28008088]]\n",
            "\n",
            " [[0.28008088 0.28008088 0.28008088]\n",
            "  [0.28008088 0.28008088 0.28008088]\n",
            "  [0.28008088 0.28008088 0.28008088]\n",
            "  ...\n",
            "  [0.28008088 0.28008088 0.28008088]\n",
            "  [0.28008088 0.28008088 0.28008088]\n",
            "  [0.28008088 0.28008088 0.28008088]]\n",
            "\n",
            " [[0.28008088 0.28008088 0.28008088]\n",
            "  [0.28008088 0.28008088 0.28008088]\n",
            "  [0.28008088 0.28008088 0.28008088]\n",
            "  ...\n",
            "  [0.28008088 0.28008088 0.28008088]\n",
            "  [0.28008088 0.28008088 0.28008088]\n",
            "  [0.28008088 0.28008088 0.28008088]]\n",
            "\n",
            " ...\n",
            "\n",
            " [[0.28008088 0.28008088 0.28008088]\n",
            "  [0.28008088 0.28008088 0.28008088]\n",
            "  [0.28008088 0.28008088 0.28008088]\n",
            "  ...\n",
            "  [0.28008088 0.28008088 0.28008088]\n",
            "  [0.28008088 0.28008088 0.28008088]\n",
            "  [0.28008088 0.28008088 0.28008088]]\n",
            "\n",
            " [[0.28008088 0.28008088 0.28008088]\n",
            "  [0.28008088 0.28008088 0.28008088]\n",
            "  [0.28008088 0.28008088 0.28008088]\n",
            "  ...\n",
            "  [0.28008088 0.28008088 0.28008088]\n",
            "  [0.28008088 0.28008088 0.28008088]\n",
            "  [0.28008088 0.28008088 0.28008088]]\n",
            "\n",
            " [[0.28008088 0.28008088 0.28008088]\n",
            "  [0.28008088 0.28008088 0.28008088]\n",
            "  [0.28008088 0.28008088 0.28008088]\n",
            "  ...\n",
            "  [0.28008088 0.28008088 0.28008088]\n",
            "  [0.28008088 0.28008088 0.28008088]\n",
            "  [0.28008088 0.28008088 0.28008088]]]\n"
          ],
          "name": "stdout"
        }
      ]
    },
    {
      "metadata": {
        "id": "NMDsjFW6HGpP",
        "colab_type": "text"
      },
      "cell_type": "markdown",
      "source": [
        "And then we observe one of our Y target values"
      ]
    },
    {
      "metadata": {
        "id": "aH2NUIkQHGbS",
        "colab_type": "code",
        "outputId": "9a35b612-0dee-45e0-cedd-353cdcfe2ba3",
        "colab": {
          "base_uri": "https://localhost:8080/",
          "height": 85
        }
      },
      "cell_type": "code",
      "source": [
        "print('...and the target values Y are:\\n', Y[im])"
      ],
      "execution_count": 10,
      "outputs": [
        {
          "output_type": "stream",
          "text": [
            "...and the target values Y are:\n",
            " [1.      0.1875  0.15625 0.09375 0.125   1.      0.4375  0.6875  0.21875\n",
            " 0.0625  1.      0.5625  0.78125 0.09375 0.125   1.      0.875   0.5\n",
            " 0.0625  0.15625]\n"
          ],
          "name": "stdout"
        }
      ]
    },
    {
      "metadata": {
        "id": "4CDu5pmrnQ8h",
        "colab_type": "text"
      },
      "cell_type": "markdown",
      "source": [
        "We have a homogeneous dataset of the N_imgs elements that we now share in Training set, Validation set, and Test set in relation 80%, 10%, 10%."
      ]
    },
    {
      "metadata": {
        "id": "Z9_AAOlaXGsU",
        "colab_type": "code",
        "outputId": "e68c6574-6a94-4961-de6f-e8eb579d9036",
        "colab": {
          "base_uri": "https://localhost:8080/",
          "height": 68
        }
      },
      "cell_type": "code",
      "source": [
        "i = int(0.8 * N_imgs)\n",
        "j = int(0.1 * N_imgs)\n",
        "\n",
        "X_train = X[:i]\n",
        "Y_train = Y[:i]\n",
        "train_ex = X_train.shape[0]\n",
        "\n",
        "X_val = X[i:i+j]\n",
        "Y_val = Y[i:i+j]\n",
        "val_ex = X_val.shape[0]\n",
        "\n",
        "X_test = X[i+j:]\n",
        "Y_test = Y[i+j:]\n",
        "test_ex = X_test.shape[0]\n",
        "\n",
        "dim_test = j # useful for the future \n",
        "\n",
        "print('Below the dimensions of X and Y for Training set, Validation set, and Test set respectively\\n')\n",
        "print(X_train.shape, Y_train.shape, X_val.shape, Y_val.shape, X_test.shape, Y_test.shape)"
      ],
      "execution_count": 11,
      "outputs": [
        {
          "output_type": "stream",
          "text": [
            "Below the dimensions of X and Y for Training set, Validation set, and Test set respectively\n",
            "\n",
            "(10000, 32, 32, 3) (10000, 20) (1250, 32, 32, 3) (1250, 20) (1250, 32, 32, 3) (1250, 20)\n"
          ],
          "name": "stdout"
        }
      ]
    },
    {
      "metadata": {
        "id": "DD5di2m3ZkR1",
        "colab_type": "text"
      },
      "cell_type": "markdown",
      "source": [
        "## The Neural Network\n",
        "Following our DNN model, is inspired by other detection algorithms and uses three pairs of CNN-MaxPooling layers followed by two fully connected layers, for a total of about 460 thousand parameters."
      ]
    },
    {
      "metadata": {
        "id": "qij_SpFYmFXt",
        "colab_type": "code",
        "outputId": "dce085f6-9fb9-4eac-95f9-7b2b56b51e2c",
        "colab": {
          "base_uri": "https://localhost:8080/",
          "height": 510
        }
      },
      "cell_type": "code",
      "source": [
        "model = Sequential()\n",
        "model.add(Conv2D(48, kernel_size=(8, 8), strides=2, padding='same', activation='relu', input_shape=(side_dim,side_dim,3), data_format='channels_last'))\n",
        "model.add(MaxPooling2D(pool_size=(2, 2), strides=2, padding='valid'))\n",
        "model.add(Conv2D(96, kernel_size=(4, 4), strides=1, padding='same', activation='relu'))\n",
        "model.add(MaxPooling2D(pool_size=(2, 2), strides=2, padding='valid'))\n",
        "model.add(Conv2D(192, kernel_size=(2, 2), strides=1, padding='same', activation='relu'))\n",
        "model.add(MaxPooling2D(pool_size=(2, 2), strides=2, padding='valid'))\n",
        "model.add(Flatten())\n",
        "model.add(Dropout(.4))\n",
        "model.add(Dense(384, activation='relu'))\n",
        "model.add(Dropout(.4))\n",
        "model.add(Dense(Y.shape[-1]))\n",
        "\n",
        "summ = model.summary()"
      ],
      "execution_count": 12,
      "outputs": [
        {
          "output_type": "stream",
          "text": [
            "_________________________________________________________________\n",
            "Layer (type)                 Output Shape              Param #   \n",
            "=================================================================\n",
            "conv2d_1 (Conv2D)            (None, 16, 16, 48)        9264      \n",
            "_________________________________________________________________\n",
            "max_pooling2d_1 (MaxPooling2 (None, 8, 8, 48)          0         \n",
            "_________________________________________________________________\n",
            "conv2d_2 (Conv2D)            (None, 8, 8, 96)          73824     \n",
            "_________________________________________________________________\n",
            "max_pooling2d_2 (MaxPooling2 (None, 4, 4, 96)          0         \n",
            "_________________________________________________________________\n",
            "conv2d_3 (Conv2D)            (None, 4, 4, 192)         73920     \n",
            "_________________________________________________________________\n",
            "max_pooling2d_3 (MaxPooling2 (None, 2, 2, 192)         0         \n",
            "_________________________________________________________________\n",
            "flatten_1 (Flatten)          (None, 768)               0         \n",
            "_________________________________________________________________\n",
            "dropout_1 (Dropout)          (None, 768)               0         \n",
            "_________________________________________________________________\n",
            "dense_1 (Dense)              (None, 384)               295296    \n",
            "_________________________________________________________________\n",
            "dropout_2 (Dropout)          (None, 384)               0         \n",
            "_________________________________________________________________\n",
            "dense_2 (Dense)              (None, 20)                7700      \n",
            "=================================================================\n",
            "Total params: 460,004\n",
            "Trainable params: 460,004\n",
            "Non-trainable params: 0\n",
            "_________________________________________________________________\n"
          ],
          "name": "stdout"
        }
      ]
    },
    {
      "metadata": {
        "id": "Nqd8xak8bjZb",
        "colab_type": "text"
      },
      "cell_type": "markdown",
      "source": [
        "At least for the moment we do not worry too much about the efficiency of the loss function and the optimization algorithm. We use the Mean Squared Error for the first and Adadelta for the second."
      ]
    },
    {
      "metadata": {
        "id": "E8KjSeIjb0TB",
        "colab_type": "text"
      },
      "cell_type": "markdown",
      "source": [
        "Let's start with a cycle of 15 epochs, we will use mini-batch of size 16."
      ]
    },
    {
      "metadata": {
        "id": "eG5l2VySr6Cr",
        "colab_type": "code",
        "colab": {}
      },
      "cell_type": "code",
      "source": [
        "N_ep = 15\n",
        "init_ep = 0\n",
        "Batchs = 16\n",
        "optimizer = 'adadelta'\n",
        "loss = 'mse'"
      ],
      "execution_count": 0,
      "outputs": []
    },
    {
      "metadata": {
        "id": "BTg--dQ7643f",
        "colab_type": "code",
        "outputId": "6b16f70f-d125-4b8f-99a9-2d7094c52b5b",
        "colab": {
          "base_uri": "https://localhost:8080/",
          "height": 544
        }
      },
      "cell_type": "code",
      "source": [
        "model.compile(optimizer, loss)\n",
        "history = model.fit(X_train, Y_train, epochs=N_ep, validation_data=(X_val, Y_val), batch_size=Batchs, initial_epoch = init_ep, verbose=1)"
      ],
      "execution_count": 14,
      "outputs": [
        {
          "output_type": "stream",
          "text": [
            "Train on 10000 samples, validate on 1250 samples\n",
            "Epoch 1/15\n",
            "10000/10000 [==============================] - 8s 817us/step - loss: 0.0268 - val_loss: 0.0126\n",
            "Epoch 2/15\n",
            "10000/10000 [==============================] - 6s 638us/step - loss: 0.0147 - val_loss: 0.0106\n",
            "Epoch 3/15\n",
            "10000/10000 [==============================] - 6s 640us/step - loss: 0.0124 - val_loss: 0.0099\n",
            "Epoch 4/15\n",
            "10000/10000 [==============================] - 6s 643us/step - loss: 0.0112 - val_loss: 0.0090\n",
            "Epoch 5/15\n",
            "10000/10000 [==============================] - 6s 640us/step - loss: 0.0104 - val_loss: 0.0085\n",
            "Epoch 6/15\n",
            "10000/10000 [==============================] - 6s 640us/step - loss: 0.0098 - val_loss: 0.0086\n",
            "Epoch 7/15\n",
            "10000/10000 [==============================] - 6s 642us/step - loss: 0.0094 - val_loss: 0.0084\n",
            "Epoch 8/15\n",
            "10000/10000 [==============================] - 6s 641us/step - loss: 0.0090 - val_loss: 0.0079\n",
            "Epoch 9/15\n",
            "10000/10000 [==============================] - 6s 642us/step - loss: 0.0087 - val_loss: 0.0076\n",
            "Epoch 10/15\n",
            "10000/10000 [==============================] - 6s 642us/step - loss: 0.0085 - val_loss: 0.0072\n",
            "Epoch 11/15\n",
            "10000/10000 [==============================] - 6s 644us/step - loss: 0.0082 - val_loss: 0.0073\n",
            "Epoch 12/15\n",
            "10000/10000 [==============================] - 6s 645us/step - loss: 0.0080 - val_loss: 0.0069\n",
            "Epoch 13/15\n",
            "10000/10000 [==============================] - 6s 643us/step - loss: 0.0078 - val_loss: 0.0072\n",
            "Epoch 14/15\n",
            "10000/10000 [==============================] - 6s 642us/step - loss: 0.0077 - val_loss: 0.0067\n",
            "Epoch 15/15\n",
            "10000/10000 [==============================] - 6s 641us/step - loss: 0.0075 - val_loss: 0.0065\n"
          ],
          "name": "stdout"
        }
      ]
    },
    {
      "metadata": {
        "id": "hwz09-H-dV7F",
        "colab_type": "text"
      },
      "cell_type": "markdown",
      "source": [
        "##Observation of results\n",
        "We evaluate the results obtained. We use the Test Set for predictions and define a metric, the IoU (Intersection over Union) that supports those we already have for the training phase - loss error.\n",
        "\n",
        "The Intersection over Union is an incredibly effective measure to understand how much our forecasts approach the correct bounding boxes of the objects in the images. It has values that oscillate between 0 and 1 and the closer they are to 1, the more the area of our predictions approaches that of the correct bounding boxes."
      ]
    },
    {
      "metadata": {
        "id": "f6DgzkS3ZUAi",
        "colab_type": "code",
        "colab": {}
      },
      "cell_type": "code",
      "source": [
        "# We define one of the reference metrics to analyze our results\n",
        "# the Intersection over Union that measures the correspondence \n",
        "# of our predictions with the actual bounding boxes\n",
        "\n",
        "def IoU(box1, box2):\n",
        "  '''Intersection over Union (IoU) between box1 and box2\n",
        "    \n",
        "  Arguments:\n",
        "  box1 -- first box, with coordinates (x1, y1, w1, h1)\n",
        "  box2 -- second box, with coordinates (x2, y2, w2, h2)\n",
        "  \n",
        "  Returns:\n",
        "  iou -- scalar\n",
        "  '''    \n",
        "  [x1, y1, w1, h1] = box1\n",
        "  [x2, y2, w2, h2] = box2\n",
        "    \n",
        "  # Intesection area \n",
        "  xi1 = np.maximum(x1, x2)\n",
        "  yi1 = np.maximum(y1, y2)\n",
        "  xi2 = np.minimum(x1+w1, x2+w2)\n",
        "  yi2 = np.minimum(y1+h1, y2+h2)\n",
        "  xi = np.maximum(0., xi2-xi1)\n",
        "  yi = np.maximum(0., yi2-yi1)\n",
        "  \n",
        "  inter_area = np.multiply(xi,yi)\n",
        "\n",
        "  # Union area\n",
        "  box1_area = (w1*h1)\n",
        "  box2_area = (w2*h2)\n",
        "  union_area = box1_area+box2_area-inter_area\n",
        "  \n",
        "  # Calculation of IoU\n",
        "  iou = inter_area/union_area\n",
        "\n",
        "  return iou\n"
      ],
      "execution_count": 0,
      "outputs": []
    },
    {
      "metadata": {
        "id": "Op1peB21yEeg",
        "colab_type": "text"
      },
      "cell_type": "markdown",
      "source": [
        "\n",
        "But first let's take a look at our predictions."
      ]
    },
    {
      "metadata": {
        "id": "p0VX1wHk_fXb",
        "colab_type": "code",
        "outputId": "ce2b5e4e-e7ce-4c4b-d016-93d6688ab267",
        "colab": {
          "base_uri": "https://localhost:8080/",
          "height": 34
        }
      },
      "cell_type": "code",
      "source": [
        "# The predictions of the neural network using our Test set as input\n",
        "pred_bboxes = model.predict(X_test)\n",
        "pred_bboxes = pred_bboxes.reshape(len(pred_bboxes), N_bb, -1)\n",
        "pred_bboxes.shape"
      ],
      "execution_count": 16,
      "outputs": [
        {
          "output_type": "execute_result",
          "data": {
            "text/plain": [
              "(1250, 4, 5)"
            ]
          },
          "metadata": {
            "tags": []
          },
          "execution_count": 16
        }
      ]
    },
    {
      "metadata": {
        "id": "_-imG1b7yJ83",
        "colab_type": "code",
        "colab": {
          "base_uri": "https://localhost:8080/",
          "height": 34
        },
        "outputId": "a4477088-496f-4006-eb89-faa9e1267c30"
      },
      "cell_type": "code",
      "source": [
        "expe_bboxes = Y_test.reshape(dim_test, N_bb, -1)\n",
        "pred_bboxes.shape, expe_bboxes.shape"
      ],
      "execution_count": 17,
      "outputs": [
        {
          "output_type": "execute_result",
          "data": {
            "text/plain": [
              "((1250, 4, 5), (1250, 4, 5))"
            ]
          },
          "metadata": {
            "tags": []
          },
          "execution_count": 17
        }
      ]
    },
    {
      "metadata": {
        "id": "qkrHhPsK_pJu",
        "colab_type": "code",
        "outputId": "495784e8-7458-4e51-ef25-52c2ffbbcdd4",
        "colab": {
          "base_uri": "https://localhost:8080/",
          "height": 609
        }
      },
      "cell_type": "code",
      "source": [
        "imgTest = (np.reshape(X_test, (dim_test, side_dim, side_dim, 3)) * np.std(imgs)) + np.mean(imgs)\n",
        "\n",
        "# Consider a random image of our Test set\n",
        "im = np.random.randint(dim_test)\n",
        "\n",
        "# We look at the objects contained in it...\n",
        "fig, ax = plt.subplots(1)\n",
        "ax.imshow(imgTest[im], origin = 'upper', interpolation = 'quadric', extent=[0, side_dim, side_dim, 0])\n",
        "\n",
        "# ...and the bounding boxes predicted by the algorithm\n",
        "for i in range (N_bb):\n",
        "  [x , y, x2, y2] = pred_bboxes[im, i, 1:] * side_dim\n",
        "  Pc = pred_bboxes[im,i,0]\n",
        "\n",
        "  expected_box = expe_bboxes[im, i, 1:] * side_dim \n",
        "  [eB_x, eB_y, eB_x2, eB_x1] = expected_box\n",
        "    \n",
        "  rect = patches.Rectangle((x, y) , w, h, ec='r', lw='1.4', fc='none')\n",
        "\n",
        "  dida = 'IoU: ' + '{:0.3f}'.format(IoU([x,y,w,h], expected_box))\n",
        "  plt.annotate(dida, (x + w , y - 0.8), color='r')\n",
        "\n",
        "  print('Test images:', im)\n",
        "  print('Object: ', i+1)\n",
        "  print('B-box confidence:', Pc)\n",
        "  print('B-box coordinates:', '[{:0.2f}'.format(x), '{:0.2f}'.format(y), '{:0.2f}'.format(w), '{:0.2f}]'.format(h))\n",
        "  print('Object coordinates:', expected_box)\n",
        "\n",
        "  ax.add_patch(rect)\n",
        "\n",
        "plt.show()"
      ],
      "execution_count": 18,
      "outputs": [
        {
          "output_type": "stream",
          "text": [
            "Test images: 872\n",
            "Object:  1\n",
            "B-box confidence: 0.99007565\n",
            "B-box coordinates: [7.73 6.70 7.00 2.00]\n",
            "Object coordinates: [7. 6. 6. 6.]\n",
            "Test images: 872\n",
            "Object:  2\n",
            "B-box confidence: 0.99509066\n",
            "B-box coordinates: [19.90 8.75 7.00 2.00]\n",
            "Object coordinates: [23.  8.  4.  4.]\n",
            "Test images: 872\n",
            "Object:  3\n",
            "B-box confidence: 0.9973731\n",
            "B-box coordinates: [24.13 13.14 7.00 2.00]\n",
            "Object coordinates: [24. 15.  6.  6.]\n",
            "Test images: 872\n",
            "Object:  4\n",
            "B-box confidence: 0.98724157\n",
            "B-box coordinates: [23.79 19.37 7.00 2.00]\n",
            "Object coordinates: [26. 21.  4.  4.]\n"
          ],
          "name": "stdout"
        },
        {
          "output_type": "display_data",
          "data": {
            "image/png": "[encoded data removed]",
            "text/plain": [
              "<matplotlib.figure.Figure at 0x7f0df5681438>"
            ]
          },
          "metadata": {
            "tags": []
          }
        }
      ]
    },
    {
      "metadata": {
        "id": "PVaTaXkm8wet",
        "colab_type": "text"
      },
      "cell_type": "markdown",
      "source": [
        "### Evaluation of results\n",
        "Now we evaluate the results, first by calculating the average IoU for predictions on our Test set."
      ]
    },
    {
      "metadata": {
        "id": "Sb9Dh2HB3rwr",
        "colab_type": "code",
        "colab": {}
      },
      "cell_type": "code",
      "source": [
        "# We measure the average IoU of the whole test set \n",
        "def mean_IoU(expe_bboxes, pred_bboxes, dim_test, N_bb):\n",
        "  expe = expe_bboxes[:,:,1:]\n",
        "  pred = pred_bboxes[:,:,1:]\n",
        "\n",
        "  IoU_test = np.zeros((dim_test, N_bb)) \n",
        "  iou_global = 0\n",
        "  for i in range(dim_test):\n",
        "    for j in range(N_bb):\n",
        "      IoU_test[i,j] = IoU(pred[i,j], expe[i,j])\n",
        "\n",
        "  iou_global = np.mean(IoU_test)\n",
        "  return iou_global\n"
      ],
      "execution_count": 0,
      "outputs": []
    },
    {
      "metadata": {
        "id": "bCSmyMg7pR-y",
        "colab_type": "text"
      },
      "cell_type": "markdown",
      "source": [
        "**Mean Intersection over Union of all Test set after 15 epochs:** "
      ]
    },
    {
      "metadata": {
        "id": "0Uplatfo8buT",
        "colab_type": "code",
        "outputId": "d8e6e9a1-419b-4d00-a980-2bb31810dcf9",
        "colab": {
          "base_uri": "https://localhost:8080/",
          "height": 34
        }
      },
      "cell_type": "code",
      "source": [
        "print(mean_IoU(expe_bboxes, pred_bboxes, dim_test, N_bb))"
      ],
      "execution_count": 20,
      "outputs": [
        {
          "output_type": "stream",
          "text": [
            "0.17562805244379484\n"
          ],
          "name": "stdout"
        }
      ]
    },
    {
      "metadata": {
        "id": "UUiEb4f76GC6",
        "colab_type": "text"
      },
      "cell_type": "markdown",
      "source": [
        "Let's try to go on with the training phase for another 15 epochs and see what happens. First we save the values of the training / validation loss to observe them later."
      ]
    },
    {
      "metadata": {
        "id": "CGtCQ0lV6MYn",
        "colab_type": "code",
        "colab": {}
      },
      "cell_type": "code",
      "source": [
        "# we save value of training/validation loss  \n",
        "val_loss = []\n",
        "train_loss = []\n",
        "\n",
        "val_loss = history.history['val_loss']\n",
        "train_loss = history.history['loss']"
      ],
      "execution_count": 0,
      "outputs": []
    },
    {
      "metadata": {
        "id": "eUt_F-M6yVJ3",
        "colab_type": "code",
        "colab": {}
      },
      "cell_type": "code",
      "source": [
        "N_ep = 30\n",
        "init_ep = 15\n",
        "Batchs = 16"
      ],
      "execution_count": 0,
      "outputs": []
    },
    {
      "metadata": {
        "id": "VvORHiVomF9A",
        "colab_type": "code",
        "colab": {
          "base_uri": "https://localhost:8080/",
          "height": 544
        },
        "outputId": "4b199488-5d20-4238-aef5-cd6f4637a8f9"
      },
      "cell_type": "code",
      "source": [
        "model.compile(optimizer, loss)\n",
        "history = model.fit(X_train, Y_train, epochs=N_ep, validation_data=(X_val, Y_val), batch_size=Batchs, initial_epoch = init_ep, verbose=1)"
      ],
      "execution_count": 23,
      "outputs": [
        {
          "output_type": "stream",
          "text": [
            "Train on 10000 samples, validate on 1250 samples\n",
            "Epoch 16/30\n",
            "10000/10000 [==============================] - 7s 728us/step - loss: 0.0074 - val_loss: 0.0066\n",
            "Epoch 17/30\n",
            "10000/10000 [==============================] - 7s 679us/step - loss: 0.0071 - val_loss: 0.0066\n",
            "Epoch 18/30\n",
            "10000/10000 [==============================] - 7s 679us/step - loss: 0.0070 - val_loss: 0.0066\n",
            "Epoch 19/30\n",
            "10000/10000 [==============================] - 7s 681us/step - loss: 0.0069 - val_loss: 0.0062\n",
            "Epoch 20/30\n",
            "10000/10000 [==============================] - 7s 682us/step - loss: 0.0067 - val_loss: 0.0061\n",
            "Epoch 21/30\n",
            "10000/10000 [==============================] - 7s 681us/step - loss: 0.0066 - val_loss: 0.0061\n",
            "Epoch 22/30\n",
            "10000/10000 [==============================] - 7s 676us/step - loss: 0.0065 - val_loss: 0.0062\n",
            "Epoch 23/30\n",
            "10000/10000 [==============================] - 7s 678us/step - loss: 0.0064 - val_loss: 0.0059\n",
            "Epoch 24/30\n",
            "10000/10000 [==============================] - 7s 682us/step - loss: 0.0064 - val_loss: 0.0059\n",
            "Epoch 25/30\n",
            "10000/10000 [==============================] - 7s 682us/step - loss: 0.0062 - val_loss: 0.0058\n",
            "Epoch 26/30\n",
            "10000/10000 [==============================] - 7s 679us/step - loss: 0.0062 - val_loss: 0.0061\n",
            "Epoch 27/30\n",
            "10000/10000 [==============================] - 7s 682us/step - loss: 0.0061 - val_loss: 0.0058\n",
            "Epoch 28/30\n",
            "10000/10000 [==============================] - 7s 680us/step - loss: 0.0060 - val_loss: 0.0057\n",
            "Epoch 29/30\n",
            "10000/10000 [==============================] - 7s 679us/step - loss: 0.0059 - val_loss: 0.0058\n",
            "Epoch 30/30\n",
            "10000/10000 [==============================] - 7s 679us/step - loss: 0.0058 - val_loss: 0.0058\n"
          ],
          "name": "stdout"
        }
      ]
    },
    {
      "metadata": {
        "id": "MF3kEX2i8-fo",
        "colab_type": "text"
      },
      "cell_type": "markdown",
      "source": [
        "**Mean Intersection over Union of all Test set after 30 epochs:** "
      ]
    },
    {
      "metadata": {
        "id": "WzNezueq9Bbb",
        "colab_type": "code",
        "colab": {
          "base_uri": "https://localhost:8080/",
          "height": 34
        },
        "outputId": "e22bacf2-1e5a-4ef8-eefc-82ee0b275a2d"
      },
      "cell_type": "code",
      "source": [
        "# The predictions of the neural network using our Test set as input\n",
        "pred_bboxes = model.predict(X_test)\n",
        "pred_bboxes = pred_bboxes.reshape(len(pred_bboxes), N_bb, -1)\n",
        "\n",
        "# The value of the IoU\n",
        "print(mean_IoU(expe_bboxes, pred_bboxes, dim_test, N_bb))"
      ],
      "execution_count": 24,
      "outputs": [
        {
          "output_type": "stream",
          "text": [
            "0.1991437834933221\n"
          ],
          "name": "stdout"
        }
      ]
    },
    {
      "metadata": {
        "id": "M7SbB4uzf3Kq",
        "colab_type": "text"
      },
      "cell_type": "markdown",
      "source": [
        "Let's now put on a graph the progress of the training phase for the Training set and the Validation set, with a graph of the Loss."
      ]
    },
    {
      "metadata": {
        "id": "wcTEWu8BaI4P",
        "colab_type": "code",
        "outputId": "f6f2fb00-86ce-48b3-a0ff-56eeb1b92baa",
        "colab": {
          "base_uri": "https://localhost:8080/",
          "height": 294
        }
      },
      "cell_type": "code",
      "source": [
        "# We add the value of the loss of the new training phase\n",
        "val_loss += history.history['val_loss']\n",
        "train_loss += history.history['loss']\n",
        "\n",
        "# Plot training & validation loss values\n",
        "plt.plot(train_loss)\n",
        "plt.plot(val_loss)\n",
        "plt.title('Model loss')\n",
        "plt.ylabel('Loss')\n",
        "plt.xlabel('Epoch')\n",
        "plt.legend(['Train', 'Validation'], loc='upper left')\n",
        "plt.show()"
      ],
      "execution_count": 25,
      "outputs": [
        {
          "output_type": "display_data",
          "data": {
            "image/png": "[encoded data removed]",
            "text/plain": [
              "<matplotlib.figure.Figure at 0x7f0deb97cba8>"
            ]
          },
          "metadata": {
            "tags": []
          }
        }
      ]
    },
    {
      "metadata": {
        "id": "VCLgeAu8mYUH",
        "colab_type": "text"
      },
      "cell_type": "markdown",
      "source": [
        "The graphs show how the network is learning. But let's go even further..."
      ]
    },
    {
      "metadata": {
        "id": "zZnlFs_SBrWY",
        "colab_type": "code",
        "colab": {
          "base_uri": "https://localhost:8080/",
          "height": 2414
        },
        "outputId": "293ae503-9933-4e87-8364-dc8461b43f59"
      },
      "cell_type": "code",
      "source": [
        "N_ep = 100\n",
        "init_ep = 30\n",
        "Batchs = 16\n",
        "model.compile(optimizer, loss)\n",
        "history = model.fit(X_train, Y_train, epochs=N_ep, validation_data=(X_val, Y_val), batch_size=Batchs, initial_epoch = init_ep, verbose=1)"
      ],
      "execution_count": 26,
      "outputs": [
        {
          "output_type": "stream",
          "text": [
            "Train on 10000 samples, validate on 1250 samples\n",
            "Epoch 31/100\n",
            "10000/10000 [==============================] - 7s 729us/step - loss: 0.0057 - val_loss: 0.0057\n",
            "Epoch 32/100\n",
            "10000/10000 [==============================] - 7s 675us/step - loss: 0.0057 - val_loss: 0.0057\n",
            "Epoch 33/100\n",
            "10000/10000 [==============================] - 7s 680us/step - loss: 0.0056 - val_loss: 0.0056\n",
            "Epoch 34/100\n",
            "10000/10000 [==============================] - 7s 682us/step - loss: 0.0055 - val_loss: 0.0057\n",
            "Epoch 35/100\n",
            "10000/10000 [==============================] - 7s 677us/step - loss: 0.0055 - val_loss: 0.0056\n",
            "Epoch 36/100\n",
            "10000/10000 [==============================] - 7s 680us/step - loss: 0.0054 - val_loss: 0.0057\n",
            "Epoch 37/100\n",
            "10000/10000 [==============================] - 7s 679us/step - loss: 0.0054 - val_loss: 0.0055\n",
            "Epoch 38/100\n",
            "10000/10000 [==============================] - 7s 679us/step - loss: 0.0053 - val_loss: 0.0056\n",
            "Epoch 39/100\n",
            "10000/10000 [==============================] - 7s 678us/step - loss: 0.0052 - val_loss: 0.0055\n",
            "Epoch 40/100\n",
            "10000/10000 [==============================] - 7s 684us/step - loss: 0.0052 - val_loss: 0.0057\n",
            "Epoch 41/100\n",
            "10000/10000 [==============================] - 7s 681us/step - loss: 0.0051 - val_loss: 0.0055\n",
            "Epoch 42/100\n",
            "10000/10000 [==============================] - 7s 681us/step - loss: 0.0051 - val_loss: 0.0054\n",
            "Epoch 43/100\n",
            "10000/10000 [==============================] - 7s 679us/step - loss: 0.0050 - val_loss: 0.0056\n",
            "Epoch 44/100\n",
            "10000/10000 [==============================] - 7s 685us/step - loss: 0.0050 - val_loss: 0.0054\n",
            "Epoch 45/100\n",
            "10000/10000 [==============================] - 7s 682us/step - loss: 0.0050 - val_loss: 0.0059\n",
            "Epoch 46/100\n",
            "10000/10000 [==============================] - 7s 681us/step - loss: 0.0049 - val_loss: 0.0054\n",
            "Epoch 47/100\n",
            "10000/10000 [==============================] - 7s 683us/step - loss: 0.0048 - val_loss: 0.0055\n",
            "Epoch 48/100\n",
            "10000/10000 [==============================] - 7s 682us/step - loss: 0.0048 - val_loss: 0.0054\n",
            "Epoch 49/100\n",
            "10000/10000 [==============================] - 7s 682us/step - loss: 0.0048 - val_loss: 0.0055\n",
            "Epoch 50/100\n",
            "10000/10000 [==============================] - 7s 684us/step - loss: 0.0047 - val_loss: 0.0055\n",
            "Epoch 51/100\n",
            "10000/10000 [==============================] - 7s 681us/step - loss: 0.0047 - val_loss: 0.0056\n",
            "Epoch 52/100\n",
            "10000/10000 [==============================] - 7s 681us/step - loss: 0.0047 - val_loss: 0.0054\n",
            "Epoch 53/100\n",
            "10000/10000 [==============================] - 7s 681us/step - loss: 0.0046 - val_loss: 0.0054\n",
            "Epoch 54/100\n",
            "10000/10000 [==============================] - 7s 683us/step - loss: 0.0046 - val_loss: 0.0054\n",
            "Epoch 55/100\n",
            "10000/10000 [==============================] - 7s 682us/step - loss: 0.0046 - val_loss: 0.0055\n",
            "Epoch 56/100\n",
            "10000/10000 [==============================] - 7s 680us/step - loss: 0.0045 - val_loss: 0.0054\n",
            "Epoch 57/100\n",
            "10000/10000 [==============================] - 7s 682us/step - loss: 0.0044 - val_loss: 0.0053\n",
            "Epoch 58/100\n",
            "10000/10000 [==============================] - 7s 681us/step - loss: 0.0045 - val_loss: 0.0055\n",
            "Epoch 59/100\n",
            "10000/10000 [==============================] - 7s 681us/step - loss: 0.0045 - val_loss: 0.0055\n",
            "Epoch 60/100\n",
            "10000/10000 [==============================] - 7s 679us/step - loss: 0.0044 - val_loss: 0.0054\n",
            "Epoch 61/100\n",
            "10000/10000 [==============================] - 7s 679us/step - loss: 0.0043 - val_loss: 0.0053\n",
            "Epoch 62/100\n",
            "10000/10000 [==============================] - 7s 683us/step - loss: 0.0043 - val_loss: 0.0054\n",
            "Epoch 63/100\n",
            "10000/10000 [==============================] - 7s 680us/step - loss: 0.0043 - val_loss: 0.0055\n",
            "Epoch 64/100\n",
            "10000/10000 [==============================] - 7s 682us/step - loss: 0.0043 - val_loss: 0.0054\n",
            "Epoch 65/100\n",
            "10000/10000 [==============================] - 7s 679us/step - loss: 0.0043 - val_loss: 0.0054\n",
            "Epoch 66/100\n",
            "10000/10000 [==============================] - 7s 679us/step - loss: 0.0042 - val_loss: 0.0053\n",
            "Epoch 67/100\n",
            "10000/10000 [==============================] - 7s 682us/step - loss: 0.0042 - val_loss: 0.0054\n",
            "Epoch 68/100\n",
            "10000/10000 [==============================] - 7s 681us/step - loss: 0.0042 - val_loss: 0.0054\n",
            "Epoch 69/100\n",
            "10000/10000 [==============================] - 7s 681us/step - loss: 0.0042 - val_loss: 0.0055\n",
            "Epoch 70/100\n",
            "10000/10000 [==============================] - 7s 677us/step - loss: 0.0041 - val_loss: 0.0054\n",
            "Epoch 71/100\n",
            "10000/10000 [==============================] - 7s 679us/step - loss: 0.0041 - val_loss: 0.0054\n",
            "Epoch 72/100\n",
            "10000/10000 [==============================] - 7s 679us/step - loss: 0.0041 - val_loss: 0.0054\n",
            "Epoch 73/100\n",
            "10000/10000 [==============================] - 7s 678us/step - loss: 0.0041 - val_loss: 0.0054\n",
            "Epoch 74/100\n",
            "10000/10000 [==============================] - 7s 682us/step - loss: 0.0040 - val_loss: 0.0056\n",
            "Epoch 75/100\n",
            "10000/10000 [==============================] - 7s 678us/step - loss: 0.0041 - val_loss: 0.0054\n",
            "Epoch 76/100\n",
            "10000/10000 [==============================] - 7s 682us/step - loss: 0.0040 - val_loss: 0.0055\n",
            "Epoch 77/100\n",
            "10000/10000 [==============================] - 7s 681us/step - loss: 0.0040 - val_loss: 0.0054\n",
            "Epoch 78/100\n",
            "10000/10000 [==============================] - 7s 682us/step - loss: 0.0040 - val_loss: 0.0053\n",
            "Epoch 79/100\n",
            "10000/10000 [==============================] - 7s 681us/step - loss: 0.0040 - val_loss: 0.0054\n",
            "Epoch 80/100\n",
            "10000/10000 [==============================] - 7s 683us/step - loss: 0.0039 - val_loss: 0.0053\n",
            "Epoch 81/100\n",
            "10000/10000 [==============================] - 7s 680us/step - loss: 0.0039 - val_loss: 0.0053\n",
            "Epoch 82/100\n",
            "10000/10000 [==============================] - 7s 680us/step - loss: 0.0039 - val_loss: 0.0055\n",
            "Epoch 83/100\n",
            "10000/10000 [==============================] - 7s 679us/step - loss: 0.0039 - val_loss: 0.0054\n",
            "Epoch 84/100\n",
            "10000/10000 [==============================] - 7s 678us/step - loss: 0.0039 - val_loss: 0.0054\n",
            "Epoch 85/100\n",
            "10000/10000 [==============================] - 7s 680us/step - loss: 0.0039 - val_loss: 0.0055\n",
            "Epoch 86/100\n",
            "10000/10000 [==============================] - 7s 678us/step - loss: 0.0039 - val_loss: 0.0053\n",
            "Epoch 87/100\n",
            "10000/10000 [==============================] - 7s 678us/step - loss: 0.0038 - val_loss: 0.0053\n",
            "Epoch 88/100\n",
            "10000/10000 [==============================] - 7s 675us/step - loss: 0.0038 - val_loss: 0.0053\n",
            "Epoch 89/100\n",
            "10000/10000 [==============================] - 7s 683us/step - loss: 0.0038 - val_loss: 0.0052\n",
            "Epoch 90/100\n",
            "10000/10000 [==============================] - 7s 678us/step - loss: 0.0038 - val_loss: 0.0052\n",
            "Epoch 91/100\n",
            "10000/10000 [==============================] - 7s 676us/step - loss: 0.0038 - val_loss: 0.0054\n",
            "Epoch 92/100\n",
            "10000/10000 [==============================] - 7s 676us/step - loss: 0.0037 - val_loss: 0.0052\n",
            "Epoch 93/100\n",
            "10000/10000 [==============================] - 7s 676us/step - loss: 0.0037 - val_loss: 0.0053\n",
            "Epoch 94/100\n",
            "10000/10000 [==============================] - 7s 679us/step - loss: 0.0037 - val_loss: 0.0053\n",
            "Epoch 95/100\n",
            "10000/10000 [==============================] - 7s 678us/step - loss: 0.0037 - val_loss: 0.0053\n",
            "Epoch 96/100\n",
            "10000/10000 [==============================] - 7s 681us/step - loss: 0.0037 - val_loss: 0.0053\n",
            "Epoch 97/100\n",
            "10000/10000 [==============================] - 7s 678us/step - loss: 0.0037 - val_loss: 0.0053\n",
            "Epoch 98/100\n",
            "10000/10000 [==============================] - 7s 680us/step - loss: 0.0037 - val_loss: 0.0055\n",
            "Epoch 99/100\n",
            "10000/10000 [==============================] - 7s 680us/step - loss: 0.0037 - val_loss: 0.0054\n",
            "Epoch 100/100\n",
            "10000/10000 [==============================] - 7s 678us/step - loss: 0.0036 - val_loss: 0.0054\n"
          ],
          "name": "stdout"
        }
      ]
    },
    {
      "metadata": {
        "id": "raB7_0uzFbe6",
        "colab_type": "text"
      },
      "cell_type": "markdown",
      "source": [
        "**Mean Intersection over Union of all Test set after 100 epochs:** "
      ]
    },
    {
      "metadata": {
        "id": "CKMHZUF-CQrE",
        "colab_type": "code",
        "colab": {
          "base_uri": "https://localhost:8080/",
          "height": 34
        },
        "outputId": "112c38eb-646a-45f5-a115-34b682f80823"
      },
      "cell_type": "code",
      "source": [
        "# The predictions of the neural network using our Test set as input\n",
        "pred_bboxes = model.predict(X_test)\n",
        "pred_bboxes = pred_bboxes.reshape(len(pred_bboxes), N_bb, -1)\n",
        "\n",
        "# The value of the IoU\n",
        "print(mean_IoU(expe_bboxes, pred_bboxes, dim_test, N_bb))"
      ],
      "execution_count": 27,
      "outputs": [
        {
          "output_type": "stream",
          "text": [
            "0.2428968371825649\n"
          ],
          "name": "stdout"
        }
      ]
    },
    {
      "metadata": {
        "id": "jTad6NW8CZCN",
        "colab_type": "code",
        "colab": {
          "base_uri": "https://localhost:8080/",
          "height": 294
        },
        "outputId": "fa975829-8008-42ab-ef99-3984290a2487"
      },
      "cell_type": "code",
      "source": [
        "# We add the value of the loss of the new training phase\n",
        "val_loss += history.history['val_loss']\n",
        "train_loss += history.history['loss']\n",
        "\n",
        "# Plot training & validation loss values\n",
        "plt.plot(train_loss)\n",
        "plt.plot(val_loss)\n",
        "plt.title('Model loss')\n",
        "plt.ylabel('Loss')\n",
        "plt.xlabel('Epoch')\n",
        "plt.legend(['Train', 'Validation'], loc='upper left')\n",
        "plt.show()"
      ],
      "execution_count": 28,
      "outputs": [
        {
          "output_type": "display_data",
          "data": {
            "image/png": "[encoded data removed]",
            "text/plain": [
              "<matplotlib.figure.Figure at 0x7f0deb530550>"
            ]
          },
          "metadata": {
            "tags": []
          }
        }
      ]
    },
    {
      "metadata": {
        "id": "DDg4_66hEiNR",
        "colab_type": "text"
      },
      "cell_type": "markdown",
      "source": [
        "The loss validation tells us that around the 80th age the network stops learning (even if the training loss continues to decrease). Considering the anomalous trend of loss validation and the IoU which in the end has improved, I try to go on with training for another 30 epochs.\n"
      ]
    },
    {
      "metadata": {
        "id": "qDx34wqmFCs9",
        "colab_type": "code",
        "colab": {
          "base_uri": "https://localhost:8080/",
          "height": 1054
        },
        "outputId": "5678a129-cd5f-4332-c6ef-602d421289ff"
      },
      "cell_type": "code",
      "source": [
        "N_ep = 130\n",
        "init_ep = 100\n",
        "Batchs = 16\n",
        "model.compile(optimizer, loss)\n",
        "history = model.fit(X_train, Y_train, epochs=N_ep, validation_data=(X_val, Y_val), batch_size=Batchs, initial_epoch = init_ep, verbose=1)"
      ],
      "execution_count": 29,
      "outputs": [
        {
          "output_type": "stream",
          "text": [
            "Train on 10000 samples, validate on 1250 samples\n",
            "Epoch 101/130\n",
            "10000/10000 [==============================] - 7s 736us/step - loss: 0.0036 - val_loss: 0.0055\n",
            "Epoch 102/130\n",
            "10000/10000 [==============================] - 7s 684us/step - loss: 0.0036 - val_loss: 0.0052\n",
            "Epoch 103/130\n",
            "10000/10000 [==============================] - 7s 678us/step - loss: 0.0036 - val_loss: 0.0054\n",
            "Epoch 104/130\n",
            "10000/10000 [==============================] - 7s 681us/step - loss: 0.0036 - val_loss: 0.0052\n",
            "Epoch 105/130\n",
            "10000/10000 [==============================] - 7s 681us/step - loss: 0.0036 - val_loss: 0.0051\n",
            "Epoch 106/130\n",
            "10000/10000 [==============================] - 7s 680us/step - loss: 0.0036 - val_loss: 0.0052\n",
            "Epoch 107/130\n",
            "10000/10000 [==============================] - 7s 681us/step - loss: 0.0036 - val_loss: 0.0052\n",
            "Epoch 108/130\n",
            "10000/10000 [==============================] - 7s 678us/step - loss: 0.0035 - val_loss: 0.0053\n",
            "Epoch 109/130\n",
            "10000/10000 [==============================] - 7s 678us/step - loss: 0.0035 - val_loss: 0.0054\n",
            "Epoch 110/130\n",
            "10000/10000 [==============================] - 7s 676us/step - loss: 0.0035 - val_loss: 0.0052\n",
            "Epoch 111/130\n",
            "10000/10000 [==============================] - 7s 679us/step - loss: 0.0035 - val_loss: 0.0052\n",
            "Epoch 112/130\n",
            "10000/10000 [==============================] - 7s 678us/step - loss: 0.0035 - val_loss: 0.0053\n",
            "Epoch 113/130\n",
            "10000/10000 [==============================] - 7s 679us/step - loss: 0.0035 - val_loss: 0.0053\n",
            "Epoch 114/130\n",
            "10000/10000 [==============================] - 7s 677us/step - loss: 0.0035 - val_loss: 0.0053\n",
            "Epoch 115/130\n",
            "10000/10000 [==============================] - 7s 677us/step - loss: 0.0035 - val_loss: 0.0052\n",
            "Epoch 116/130\n",
            "10000/10000 [==============================] - 7s 680us/step - loss: 0.0035 - val_loss: 0.0054\n",
            "Epoch 117/130\n",
            "10000/10000 [==============================] - 7s 677us/step - loss: 0.0034 - val_loss: 0.0053\n",
            "Epoch 118/130\n",
            "10000/10000 [==============================] - 7s 681us/step - loss: 0.0035 - val_loss: 0.0052\n",
            "Epoch 119/130\n",
            "10000/10000 [==============================] - 7s 681us/step - loss: 0.0034 - val_loss: 0.0053\n",
            "Epoch 120/130\n",
            "10000/10000 [==============================] - 7s 686us/step - loss: 0.0034 - val_loss: 0.0053\n",
            "Epoch 121/130\n",
            "10000/10000 [==============================] - 7s 680us/step - loss: 0.0034 - val_loss: 0.0053\n",
            "Epoch 122/130\n",
            "10000/10000 [==============================] - 7s 679us/step - loss: 0.0034 - val_loss: 0.0053\n",
            "Epoch 123/130\n",
            "10000/10000 [==============================] - 7s 680us/step - loss: 0.0034 - val_loss: 0.0052\n",
            "Epoch 124/130\n",
            "10000/10000 [==============================] - 7s 681us/step - loss: 0.0034 - val_loss: 0.0052\n",
            "Epoch 125/130\n",
            "10000/10000 [==============================] - 7s 680us/step - loss: 0.0034 - val_loss: 0.0052\n",
            "Epoch 126/130\n",
            "10000/10000 [==============================] - 7s 678us/step - loss: 0.0034 - val_loss: 0.0053\n",
            "Epoch 127/130\n",
            "10000/10000 [==============================] - 7s 676us/step - loss: 0.0034 - val_loss: 0.0052\n",
            "Epoch 128/130\n",
            "10000/10000 [==============================] - 7s 677us/step - loss: 0.0034 - val_loss: 0.0052\n",
            "Epoch 129/130\n",
            "10000/10000 [==============================] - 7s 678us/step - loss: 0.0034 - val_loss: 0.0052\n",
            "Epoch 130/130\n",
            "10000/10000 [==============================] - 7s 681us/step - loss: 0.0034 - val_loss: 0.0052\n"
          ],
          "name": "stdout"
        }
      ]
    },
    {
      "metadata": {
        "id": "Ea-5G04_FgQE",
        "colab_type": "text"
      },
      "cell_type": "markdown",
      "source": [
        "**Mean Intersection over Union of all Test set after 130 epochs:** "
      ]
    },
    {
      "metadata": {
        "id": "p-ZaL-v6FKsT",
        "colab_type": "code",
        "colab": {
          "base_uri": "https://localhost:8080/",
          "height": 34
        },
        "outputId": "3c449600-1a00-4bda-e6d9-771e1230bece"
      },
      "cell_type": "code",
      "source": [
        "# The predictions of the neural network using our Test set as input\n",
        "pred_bboxes = model.predict(X_test)\n",
        "pred_bboxes = pred_bboxes.reshape(len(pred_bboxes), N_bb, -1)\n",
        "\n",
        "# The value of the IoU\n",
        "print(mean_IoU(expe_bboxes, pred_bboxes, dim_test, N_bb))"
      ],
      "execution_count": 30,
      "outputs": [
        {
          "output_type": "stream",
          "text": [
            "0.24587326042747318\n"
          ],
          "name": "stdout"
        }
      ]
    },
    {
      "metadata": {
        "id": "RiaPsXtQkBmL",
        "colab_type": "text"
      },
      "cell_type": "markdown",
      "source": [
        "##Conclusions\n",
        "The experiment described lasted just few minutes taking advantage of the Google Colab GPU. Even so, it shows the learning ability of the algorithm and the effectiveness of the solution we have adopted to avoid falling into the problem of undifferentiated bounding-boxes exposed by Rieke. In particular, it highlights the importance of pre-processing operations.\n",
        "\n",
        "The network trained for over 100 epochs (in a dozen minutes) continues to learn up to a certain point - around 80th epoch - but the trend of the validation loss is anomalous, being initially lower than the training loss. This and other issues need to be investigated - beginning with considering the use of a different loss function."
      ]
    },
    {
      "metadata": {
        "id": "nOM3zBbKowTh",
        "colab_type": "text"
      },
      "cell_type": "markdown",
      "source": [
        "The display of results for the Test-set shows the differentiation of bounding boxes in an image. The value of the IoU is also very indicative. The IoU proves to be perhaps the best metric for a tuning operation on the neural network, so it should be implemented in the algorithm and evaluated at the Validation-set level.\n",
        "\n",
        "Anyway, the network is certainly improvable. From this base I will carry out other experiments on other Jupyter notebooks by carefully tuning hyperparations, using larger and more complex datasets."
      ]
    },
    {
      "metadata": {
        "id": "OAE8Of6jvcP4",
        "colab_type": "code",
        "colab": {}
      },
      "cell_type": "code",
      "source": [
        ""
      ],
      "execution_count": 0,
      "outputs": []
    }
  ]
}