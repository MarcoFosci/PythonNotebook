{
  "nbformat": 4,
  "nbformat_minor": 0,
  "metadata": {
    "colab": {
      "name": "Copy of Detection-2Boxes.ipynb",
      "version": "0.3.2",
      "provenance": [],
      "toc_visible": true
    },
    "kernelspec": {
      "name": "python3",
      "display_name": "Python 3"
    },
    "accelerator": "GPU"
  },
  "cells": [
    {
      "metadata": {
        "id": "Qncfh05ySrQf",
        "colab_type": "text"
      },
      "cell_type": "markdown",
      "source": [
        "# Shape-detection \n",
        "This work is inspired by Andrew Ng's Specialization Course on Deep Learning. In particular, the fourth chapter dedicated to the Convolutional Neural Network and the Yolo algorithm described in the third week.\n"
      ]
    },
    {
      "metadata": {
        "id": "uLnCJvC2Sis8",
        "colab_type": "code",
        "colab": {
          "base_uri": "https://localhost:8080/",
          "height": 34
        },
        "outputId": "a46dda98-5eac-446c-b5ec-b48c7e5cb265"
      },
      "cell_type": "code",
      "source": [
        "import numpy as np\n",
        "import matplotlib.pyplot as plt\n",
        "import matplotlib.patches as patches\n",
        "import cv2\n",
        "import tensorflow as tf\n",
        "from keras.models import Sequential\n",
        "from keras.layers import Conv2D, MaxPooling2D, Dense, Dropout, Flatten, Input\n",
        "from keras import optimizers\n",
        "\n",
        "%matplotlib inline"
      ],
      "execution_count": 1,
      "outputs": [
        {
          "output_type": "stream",
          "text": [
            "Using TensorFlow backend.\n"
          ],
          "name": "stderr"
        }
      ]
    },
    {
      "metadata": {
        "id": "9FyhER8HdAUz",
        "colab_type": "text"
      },
      "cell_type": "markdown",
      "source": [
        "Creiamo un semplice dataset di immagini banali (rettangoli). Ogni immagine avrà una dimensione massima 24x24 e conterrà fino a un massimo di N_bb oggetti con diverse gradazioni di colore. La loro dimensione varierà tra un minimo di 1x1 e un massimo 8x8. Se la gradazione di colore (0-255) è minore o maggiore di una certa soglia (nel nostro caso <64), l'oggetto non deve essere rilevato. \n",
        "\n",
        "Contestualmente definiamo anche i nostri bboxes (bounding boxes). Useremo 5 coordinate: una 'Pc' che indica la percentuale di confidenza della presenza di un oggetto, 'x' e 'y', per la posizione spaziale del vertice alto a sinistra e 'w' e 'h' per l'estensione (larghezza e altezza). "
      ]
    },
    {
      "metadata": {
        "id": "LEhGGX-QS4SO",
        "colab_type": "code",
        "colab": {}
      },
      "cell_type": "code",
      "source": [
        "N_imgs = 125000\n",
        "\n",
        "# imagines side dimension\n",
        "side_dim = 32 # 24\n",
        "\n",
        "# objects min/max side dimensions\n",
        "obj_min_dim = 2\n",
        "obj_max_dim = 8 \n",
        "\n",
        "# number of objects\n",
        "N_bb = 4 # 4\n",
        "\n",
        "# color thresholds\n",
        "min_threshold = 0\n",
        "max_threshold = 124\n",
        "\n",
        "# confidence threshold\n",
        "Pc_th = .0\n",
        "\n",
        "# inizialization of images with a light gray color\n",
        "imgs = np.ones((N_imgs, side_dim, side_dim,3)) * .9 \n",
        "# inizialization of bounding boxes\n",
        "bounding_boxes = np.zeros((N_imgs, N_bb, 5))\n",
        "\n",
        "# inizialization of origin distance array\n",
        "distance = np.zeros((N_imgs, N_bb))\n",
        "\n",
        "# creationn of objects in images and relative bounding boxes\n",
        "\n",
        "for N_img in range(N_imgs):\n",
        "    for i_ogg in range(N_bb):\n",
        "        w = np.random.randint(obj_min_dim, obj_max_dim)\n",
        "        h = np.random.randint(obj_min_dim, obj_max_dim)\n",
        "        x = np.random.randint(0, side_dim - w)\n",
        "        y = np.random.randint(0, side_dim - h)\n",
        "          \n",
        "        R = (np.random.randint(min_threshold, max_threshold)) / 255\n",
        "        G = (np.random.randint(min_threshold, max_threshold)) / 255\n",
        "        B = (np.random.randint(min_threshold, max_threshold)) / 255\n",
        "        \n",
        "        imgs[N_img, y:y+h, x:x+w, 0] = R \n",
        "        imgs[N_img, y:y+h, x:x+w, 1] = G \n",
        "        imgs[N_img, y:y+h, x:x+w, 2] = B \n",
        "        \n",
        "        '''\n",
        "        if col >= min_threshold and col < max_threshold: \n",
        "          Pc = 1\n",
        "        else: \n",
        "          Pc = 0\n",
        "        '''\n",
        "        Pc = 1\n",
        "        bounding_boxes[N_img, i_ogg] = [Pc, x, y, w, h]   \n",
        "        \n",
        "        # calcoliamo la distanza dall'origine per ogni Bounding Box\n",
        "        distance[N_img, i_ogg] = np.sqrt(np.square(x+(w/2))+ np.square(y+(h/2)))\n"
      ],
      "execution_count": 0,
      "outputs": []
    },
    {
      "metadata": {
        "id": "TGK4cCnHlJ2G",
        "colab_type": "text"
      },
      "cell_type": "markdown",
      "source": [
        "## Osservazione e Pre-processing\n",
        "Prima cosa che facciamo è analizzare i nostri dataset e cominciare a preprocessarli"
      ]
    },
    {
      "metadata": {
        "id": "jUY7g8MIlfpG",
        "colab_type": "code",
        "colab": {
          "base_uri": "https://localhost:8080/",
          "height": 68
        },
        "outputId": "7b345bc5-0c57-4cda-eaa7-e146a43fbe66"
      },
      "cell_type": "code",
      "source": [
        "# Osserviamo la dimensione degli array Numpy per immagini e bboxes \n",
        "print('Dimension of images array:', imgs.shape)\n",
        "print('Dimension of BBoxes array:', bounding_boxes.shape)\n",
        "distance.shape"
      ],
      "execution_count": 3,
      "outputs": [
        {
          "output_type": "stream",
          "text": [
            "Dimension of images array: (125000, 32, 32, 3)\n",
            "Dimension of BBoxes array: (125000, 4, 5)\n"
          ],
          "name": "stdout"
        },
        {
          "output_type": "execute_result",
          "data": {
            "text/plain": [
              "(125000, 4)"
            ]
          },
          "metadata": {
            "tags": []
          },
          "execution_count": 3
        }
      ]
    },
    {
      "metadata": {
        "id": "fPeK79wgVDXu",
        "colab_type": "code",
        "outputId": "cb2f5db6-b36b-40c8-bed6-bb4ab38a658a",
        "colab": {
          "base_uri": "https://localhost:8080/",
          "height": 286
        }
      },
      "cell_type": "code",
      "source": [
        "# Ora prendiamo un'immagine a caso\n",
        "im = np.random.randint(N_imgs)\n",
        "print('Imagine n.', im)\n",
        "\n",
        "# Vediamo gli oggetti contenuti in essa...\n",
        "fig, ax = plt.subplots(1)\n",
        "\n",
        "ax.imshow(imgs[im], origin = 'upper', interpolation = 'quadric', extent=[0, side_dim, side_dim, 0])\n",
        "\n",
        "# ...e i bounding box corrispondenti\n",
        "for i in range (N_bb):\n",
        "  [Pc, x, y, w, h] = bounding_boxes[im, i]\n",
        "\n",
        "# consideriamo solo una percentuale di confidenza sopra la Pc_th  \n",
        "# (nei nostri dataset abbiamo Pc con valori 0 oppure 1) ma in seguito \n",
        "# Pc assumerà valori probabilistici tra 0 e 1\n",
        "  if Pc >= Pc_th:\n",
        "    rect = patches.Rectangle((x, y) , w, h, ec='r', lw='1.6', fc='none')\n",
        "    ax.add_patch(rect)\n",
        "\n",
        "plt.show()"
      ],
      "execution_count": 4,
      "outputs": [
        {
          "output_type": "stream",
          "text": [
            "Imagine n. 81603\n"
          ],
          "name": "stdout"
        },
        {
          "output_type": "display_data",
          "data": {
            "image/png": "[encoded data removed]",
            "text/plain": [
              "<matplotlib.figure.Figure at 0x7f277a19df60>"
            ]
          },
          "metadata": {
            "tags": []
          }
        }
      ]
    },
    {
      "metadata": {
        "id": "b0idcZGhsjXG",
        "colab_type": "code",
        "colab": {
          "base_uri": "https://localhost:8080/",
          "height": 269
        },
        "outputId": "e30c5d5a-6ef3-4c43-bd23-b29e995ab3ed"
      },
      "cell_type": "code",
      "source": [
        "# Riossorviamo l'immagine di prima con la distanza dall'origine degli oggetti...\n",
        "fig, ax = plt.subplots(1)\n",
        "\n",
        "ax.imshow(imgs[im], origin = 'upper', interpolation = 'hanning', extent=[0, side_dim, side_dim, 0])\n",
        "\n",
        "for i in range (N_bb):\n",
        "  [Pc, x, y, w, h] = bounding_boxes[im, i]\n",
        "\n",
        "  if Pc >= Pc_th:\n",
        "    line = patches.Arrow(0, 0, x+(w/2), y+(h/2), .2, ec='r') \n",
        "    ax.add_patch(line)\n",
        "    dida = 'dist: ' + '{:0.1f}'.format(distance[im,i])\n",
        "    plt.annotate(dida, (x + w + 0.8 , y - 0.8), color='r')\n",
        "\n",
        "plt.show()"
      ],
      "execution_count": 5,
      "outputs": [
        {
          "output_type": "display_data",
          "data": {
            "image/png": "[encoded data removed]",
            "text/plain": [
              "<matplotlib.figure.Figure at 0x7f2734e67048>"
            ]
          },
          "metadata": {
            "tags": []
          }
        }
      ]
    },
    {
      "metadata": {
        "id": "5gBRsop_d6t1",
        "colab_type": "code",
        "colab": {}
      },
      "cell_type": "code",
      "source": [
        "# Riordiniamo i bounding_boxes in base alla distanza dall'origine degli oggetti\n",
        "\n",
        "order = np.zeros((N_imgs, N_bb), dtype=int)\n",
        "bboxes = np.zeros(bounding_boxes.shape)\n",
        "\n",
        "for i in range(N_imgs):\n",
        "  order[i] = np.argsort(distance[i]) \n",
        "  for j in range(N_bb):\n",
        "    bboxes[i,j] = (bounding_boxes[i, order[i,j]])"
      ],
      "execution_count": 0,
      "outputs": []
    },
    {
      "metadata": {
        "id": "FVTByunkgLCA",
        "colab_type": "text"
      },
      "cell_type": "markdown",
      "source": [
        "Cominciamo a pensare in termini di Machine Learning,  normalizziamo perciò i valori dei pixel contenuti nelle nostre immagini per avere valori compresi tra -1 e 1 e li trasferiamo nei valori di input X. \n",
        "\n",
        "Analogamente normalizziamo i valori geometrici dei nostri bboxes rispetto alla dimensione delle immagini.    "
      ]
    },
    {
      "metadata": {
        "id": "YSkMI1oUc0A-",
        "colab_type": "code",
        "outputId": "732ec850-31a3-4903-fc7f-34b6471e489e",
        "colab": {
          "base_uri": "https://localhost:8080/",
          "height": 51
        }
      },
      "cell_type": "code",
      "source": [
        "X = (imgs - np.mean(imgs)) / np.std(imgs)\n",
        "X = np.reshape(X, (N_imgs, side_dim, side_dim, 3))\n",
        "print(X.shape, np.mean(imgs), np.std(imgs))\n",
        "\n",
        "\n",
        "Y = np.concatenate((bboxes[:,:, :1], (bboxes[:,:, 1:]/side_dim)), axis=-1)\n",
        "Y = Y.reshape(N_imgs, -1) \n",
        "print(Y.shape)"
      ],
      "execution_count": 7,
      "outputs": [
        {
          "output_type": "stream",
          "text": [
            "(125000, 32, 32, 3) 0.8497515497957513 0.17910269727925016\n",
            "(125000, 20)\n"
          ],
          "name": "stdout"
        }
      ]
    },
    {
      "metadata": {
        "id": "fkQt2zrRp1Hz",
        "colab_type": "code",
        "colab": {
          "base_uri": "https://localhost:8080/",
          "height": 136
        },
        "outputId": "d5978867-687d-4c12-951e-9b4f2963a219"
      },
      "cell_type": "code",
      "source": [
        "# Osserviamo un esempio a cominciare dalle nostre X\n",
        "i = np.random.randint(N_imgs)\n",
        "print('Images example', i, 'has shape:\\n', X[i].shape, '\\n')\n",
        "\n",
        "# Per poi osservare le nostre Y\n",
        "print('...and the target values Y are:\\n', Y[3])"
      ],
      "execution_count": 8,
      "outputs": [
        {
          "output_type": "stream",
          "text": [
            "Images example 30744 has shape:\n",
            " (32, 32, 3) \n",
            "\n",
            "...and the target values Y are:\n",
            " [1.      0.25    0.28125 0.1875  0.15625 1.      0.3125  0.53125 0.09375\n",
            " 0.1875  1.      0.03125 0.6875  0.125   0.21875 1.      0.78125 0.59375\n",
            " 0.125   0.0625 ]\n"
          ],
          "name": "stdout"
        }
      ]
    },
    {
      "metadata": {
        "id": "4CDu5pmrnQ8h",
        "colab_type": "text"
      },
      "cell_type": "markdown",
      "source": [
        "Abbiamo un dataset omogeneo i 60 mila elementi che ora dividiamo in Training set, Validation set, e Test set in rapporto 80%, 10%, 10%"
      ]
    },
    {
      "metadata": {
        "id": "Z9_AAOlaXGsU",
        "colab_type": "code",
        "outputId": "2aa0ed24-40b1-4612-d938-c2acc465adb6",
        "colab": {
          "base_uri": "https://localhost:8080/",
          "height": 34
        }
      },
      "cell_type": "code",
      "source": [
        "i = int(0.8 * N_imgs)\n",
        "j = int(0.1 * N_imgs)\n",
        "\n",
        "X_train = X[:i]\n",
        "Y_train = Y[:i]\n",
        "train_ex = X_train.shape[0]\n",
        "\n",
        "X_val = X[i:i+j]\n",
        "Y_val = Y[i:i+j]\n",
        "val_ex = X_val.shape[0]\n",
        "\n",
        "X_test = X[i+j:]\n",
        "Y_test = Y[i+j:]\n",
        "test_ex = X_test.shape[0]\n",
        "\n",
        "dim_test = j # per futura memoria\n",
        "\n",
        "print(X_train.shape, Y_train.shape, X_val.shape, Y_val.shape, X_test.shape, Y_test.shape)"
      ],
      "execution_count": 9,
      "outputs": [
        {
          "output_type": "stream",
          "text": [
            "(100000, 32, 32, 3) (100000, 20) (12500, 32, 32, 3) (12500, 20) (12500, 32, 32, 3) (12500, 20)\n"
          ],
          "name": "stdout"
        }
      ]
    },
    {
      "metadata": {
        "id": "qij_SpFYmFXt",
        "colab_type": "code",
        "outputId": "083c708b-2bb0-485a-8a88-4b7b07c1e290",
        "colab": {
          "base_uri": "https://localhost:8080/",
          "height": 510
        }
      },
      "cell_type": "code",
      "source": [
        "\n",
        "\n",
        "model = Sequential()\n",
        "model.add(Conv2D(48, kernel_size=(8, 8), strides=2, padding='same', activation='relu', input_shape=(side_dim,side_dim,3), data_format='channels_last'))\n",
        "model.add(MaxPooling2D(pool_size=(2, 2), strides=2, padding='valid'))\n",
        "model.add(Conv2D(96, kernel_size=(4, 4), strides=1, padding='same', activation='relu'))\n",
        "model.add(MaxPooling2D(pool_size=(2, 2), strides=2, padding='valid'))\n",
        "model.add(Conv2D(192, kernel_size=(2, 2), strides=1, padding='same', activation='relu'))\n",
        "model.add(MaxPooling2D(pool_size=(2, 2), strides=2, padding='valid'))\n",
        "model.add(Flatten())\n",
        "model.add(Dropout(.4))\n",
        "model.add(Dense(384, activation='relu'))\n",
        "model.add(Dropout(.4))\n",
        "model.add(Dense(Y.shape[-1]))\n",
        "\n",
        "summ = model.summary()"
      ],
      "execution_count": 28,
      "outputs": [
        {
          "output_type": "stream",
          "text": [
            "_________________________________________________________________\n",
            "Layer (type)                 Output Shape              Param #   \n",
            "=================================================================\n",
            "conv2d_1 (Conv2D)            (None, 16, 16, 48)        9264      \n",
            "_________________________________________________________________\n",
            "max_pooling2d_1 (MaxPooling2 (None, 8, 8, 48)          0         \n",
            "_________________________________________________________________\n",
            "conv2d_2 (Conv2D)            (None, 8, 8, 96)          73824     \n",
            "_________________________________________________________________\n",
            "max_pooling2d_2 (MaxPooling2 (None, 4, 4, 96)          0         \n",
            "_________________________________________________________________\n",
            "conv2d_3 (Conv2D)            (None, 4, 4, 192)         73920     \n",
            "_________________________________________________________________\n",
            "max_pooling2d_3 (MaxPooling2 (None, 2, 2, 192)         0         \n",
            "_________________________________________________________________\n",
            "flatten_1 (Flatten)          (None, 768)               0         \n",
            "_________________________________________________________________\n",
            "dropout_1 (Dropout)          (None, 768)               0         \n",
            "_________________________________________________________________\n",
            "dense_1 (Dense)              (None, 384)               295296    \n",
            "_________________________________________________________________\n",
            "dropout_2 (Dropout)          (None, 384)               0         \n",
            "_________________________________________________________________\n",
            "dense_2 (Dense)              (None, 20)                7700      \n",
            "=================================================================\n",
            "Total params: 460,004\n",
            "Trainable params: 460,004\n",
            "Non-trainable params: 0\n",
            "_________________________________________________________________\n"
          ],
          "name": "stdout"
        }
      ]
    },
    {
      "metadata": {
        "id": "eG5l2VySr6Cr",
        "colab_type": "code",
        "colab": {}
      },
      "cell_type": "code",
      "source": [
        "# sgd = optimizers.SGD(lr=0.0009, decay=1e-6, momentum=0.9, nesterov=True)\n",
        "# model.compile(loss='mean_squared_error', optimizer=sgd, metrics=['accuracy'])\n",
        "model.compile('adadelta', 'mse', metrics=['accuracy'])"
      ],
      "execution_count": 0,
      "outputs": []
    },
    {
      "metadata": {
        "id": "f6DgzkS3ZUAi",
        "colab_type": "code",
        "colab": {}
      },
      "cell_type": "code",
      "source": [
        "def IoU(box1, box2):\n",
        "  '''Intersection over Union (IoU) between box1 and box2\n",
        "    \n",
        "  Arguments:\n",
        "  box1 -- first box, with coordinates (x1, y1, w1, h1)\n",
        "  box2 -- second box, with coordinates (x2, y2, w2, h2)\n",
        "  \n",
        "  Returns:\n",
        "  iou -- scalar\n",
        "  '''    \n",
        "  [x1, y1, w1, h1] = box1\n",
        "  [x2, y2, w2, h2] = box2\n",
        "  \n",
        "  \n",
        "  \n",
        "  # Intesection area \n",
        "  xi1 = np.maximum(x1, x2)\n",
        "  yi1 = np.maximum(y1, y2)\n",
        "  xi2 = np.minimum(x1+w1, x2+w2)\n",
        "  yi2 = np.minimum(y1+h1, y2+h2)\n",
        "  xi = np.maximum(0., xi2-xi1)\n",
        "  yi = np.maximum(0., yi2-yi1)\n",
        "  \n",
        "  inter_area = np.multiply(xi,yi)\n",
        "\n",
        "\n",
        "  # Union area\n",
        "  box1_area = (w1*h1)\n",
        "  box2_area = (w2*h2)\n",
        "  union_area = box1_area+box2_area-inter_area\n",
        "  \n",
        "  # Calculation of IoU\n",
        "  iou = inter_area/union_area\n",
        "\n",
        "  return iou\n"
      ],
      "execution_count": 0,
      "outputs": []
    },
    {
      "metadata": {
        "id": "BTg--dQ7643f",
        "colab_type": "code",
        "colab": {
          "base_uri": "https://localhost:8080/",
          "height": 1091
        },
        "outputId": "b1851022-36f2-4431-ede9-5970a88590fd"
      },
      "cell_type": "code",
      "source": [
        "\n",
        "model.fit(X_train, Y_train, epochs=30, validation_data=(X_val, Y_val), verbose=1)"
      ],
      "execution_count": 55,
      "outputs": [
        {
          "output_type": "stream",
          "text": [
            "Train on 100000 samples, validate on 12500 samples\n",
            "Epoch 1/30\n",
            "100000/100000 [==============================] - 41s 414us/step - loss: 0.0045 - acc: 0.2488 - val_loss: 0.0035 - val_acc: 0.4463\n",
            "Epoch 2/30\n",
            "100000/100000 [==============================] - 41s 413us/step - loss: 0.0044 - acc: 0.2550 - val_loss: 0.0035 - val_acc: 0.1701\n",
            "Epoch 3/30\n",
            "100000/100000 [==============================] - 41s 413us/step - loss: 0.0044 - acc: 0.2400 - val_loss: 0.0035 - val_acc: 0.0778\n",
            "Epoch 4/30\n",
            "100000/100000 [==============================] - 41s 413us/step - loss: 0.0044 - acc: 0.2578 - val_loss: 0.0035 - val_acc: 0.3676\n",
            "Epoch 5/30\n",
            "100000/100000 [==============================] - 42s 415us/step - loss: 0.0044 - acc: 0.2735 - val_loss: 0.0034 - val_acc: 0.2616\n",
            "Epoch 6/30\n",
            "100000/100000 [==============================] - 41s 414us/step - loss: 0.0043 - acc: 0.2901 - val_loss: 0.0034 - val_acc: 0.5793\n",
            "Epoch 7/30\n",
            "100000/100000 [==============================] - 41s 412us/step - loss: 0.0043 - acc: 0.2850 - val_loss: 0.0035 - val_acc: 0.3687\n",
            "Epoch 8/30\n",
            "100000/100000 [==============================] - 41s 412us/step - loss: 0.0043 - acc: 0.2890 - val_loss: 0.0035 - val_acc: 0.4243\n",
            "Epoch 9/30\n",
            "100000/100000 [==============================] - 41s 412us/step - loss: 0.0043 - acc: 0.3039 - val_loss: 0.0035 - val_acc: 0.0975\n",
            "Epoch 10/30\n",
            "100000/100000 [==============================] - 41s 413us/step - loss: 0.0042 - acc: 0.2860 - val_loss: 0.0033 - val_acc: 0.1756\n",
            "Epoch 11/30\n",
            "100000/100000 [==============================] - 41s 414us/step - loss: 0.0042 - acc: 0.2711 - val_loss: 0.0034 - val_acc: 0.5057\n",
            "Epoch 12/30\n",
            "100000/100000 [==============================] - 42s 417us/step - loss: 0.0042 - acc: 0.2753 - val_loss: 0.0033 - val_acc: 0.2323\n",
            "Epoch 13/30\n",
            "100000/100000 [==============================] - 42s 415us/step - loss: 0.0042 - acc: 0.2571 - val_loss: 0.0033 - val_acc: 0.1173\n",
            "Epoch 14/30\n",
            "100000/100000 [==============================] - 42s 416us/step - loss: 0.0042 - acc: 0.2679 - val_loss: 0.0033 - val_acc: 0.4814\n",
            "Epoch 15/30\n",
            "100000/100000 [==============================] - 42s 417us/step - loss: 0.0041 - acc: 0.2728 - val_loss: 0.0033 - val_acc: 0.2853\n",
            "Epoch 16/30\n",
            "100000/100000 [==============================] - 42s 416us/step - loss: 0.0041 - acc: 0.2537 - val_loss: 0.0033 - val_acc: 0.1836\n",
            "Epoch 17/30\n",
            "100000/100000 [==============================] - 42s 417us/step - loss: 0.0041 - acc: 0.2666 - val_loss: 0.0033 - val_acc: 0.1703\n",
            "Epoch 18/30\n",
            "100000/100000 [==============================] - 42s 417us/step - loss: 0.0041 - acc: 0.2540 - val_loss: 0.0033 - val_acc: 0.2125\n",
            "Epoch 19/30\n",
            "100000/100000 [==============================] - 42s 416us/step - loss: 0.0041 - acc: 0.2616 - val_loss: 0.0033 - val_acc: 0.4455\n",
            "Epoch 20/30\n",
            "100000/100000 [==============================] - 39s 391us/step - loss: 0.0041 - acc: 0.2520 - val_loss: 0.0035 - val_acc: 0.1590\n",
            "Epoch 21/30\n",
            "100000/100000 [==============================] - 39s 392us/step - loss: 0.0041 - acc: 0.2577 - val_loss: 0.0033 - val_acc: 0.1924\n",
            "Epoch 22/30\n",
            "100000/100000 [==============================] - 39s 391us/step - loss: 0.0040 - acc: 0.2694 - val_loss: 0.0033 - val_acc: 0.0254\n",
            "Epoch 23/30\n",
            "100000/100000 [==============================] - 39s 393us/step - loss: 0.0040 - acc: 0.2596 - val_loss: 0.0034 - val_acc: 0.3070\n",
            "Epoch 24/30\n",
            "100000/100000 [==============================] - 39s 392us/step - loss: 0.0040 - acc: 0.2655 - val_loss: 0.0033 - val_acc: 0.0884\n",
            "Epoch 25/30\n",
            "100000/100000 [==============================] - 39s 391us/step - loss: 0.0040 - acc: 0.2542 - val_loss: 0.0032 - val_acc: 0.0109\n",
            "Epoch 26/30\n",
            "100000/100000 [==============================] - 41s 413us/step - loss: 0.0040 - acc: 0.2689 - val_loss: 0.0033 - val_acc: 0.1896\n",
            "Epoch 27/30\n",
            "100000/100000 [==============================] - 42s 415us/step - loss: 0.0040 - acc: 0.2727 - val_loss: 0.0032 - val_acc: 0.2783\n",
            "Epoch 28/30\n",
            "100000/100000 [==============================] - 41s 413us/step - loss: 0.0039 - acc: 0.2809 - val_loss: 0.0033 - val_acc: 0.0462\n",
            "Epoch 29/30\n",
            "100000/100000 [==============================] - 41s 415us/step - loss: 0.0039 - acc: 0.2894 - val_loss: 0.0032 - val_acc: 0.1096\n",
            "Epoch 30/30\n",
            "100000/100000 [==============================] - 41s 414us/step - loss: 0.0039 - acc: 0.2700 - val_loss: 0.0032 - val_acc: 0.2492\n"
          ],
          "name": "stdout"
        },
        {
          "output_type": "execute_result",
          "data": {
            "text/plain": [
              "<keras.callbacks.History at 0x7f2722c33128>"
            ]
          },
          "metadata": {
            "tags": []
          },
          "execution_count": 55
        }
      ]
    },
    {
      "metadata": {
        "id": "p0VX1wHk_fXb",
        "colab_type": "code",
        "outputId": "24d2bf97-d1e4-426d-c4a5-6f69835b6a3e",
        "colab": {
          "base_uri": "https://localhost:8080/",
          "height": 34
        }
      },
      "cell_type": "code",
      "source": [
        "pred_y = model.predict(X_test)\n",
        "pred_bboxes = pred_y\n",
        "pred_bboxes = pred_bboxes.reshape(len(pred_bboxes), N_bb, -1)\n",
        "pred_bboxes.shape\n",
        "# print(pred_bboxes[1])"
      ],
      "execution_count": 56,
      "outputs": [
        {
          "output_type": "execute_result",
          "data": {
            "text/plain": [
              "(12500, 4, 5)"
            ]
          },
          "metadata": {
            "tags": []
          },
          "execution_count": 56
        }
      ]
    },
    {
      "metadata": {
        "id": "qkrHhPsK_pJu",
        "colab_type": "code",
        "outputId": "0a5a0fdc-7f4d-4628-c094-b6e82f7825ad",
        "colab": {
          "base_uri": "https://localhost:8080/",
          "height": 609
        }
      },
      "cell_type": "code",
      "source": [
        "imgTest = (np.reshape(X_test, (dim_test, side_dim, side_dim, 3)) * np.std(imgs)) + np.mean(imgs)\n",
        "\n",
        "# Ora prendiamo un'immagine a caso\n",
        "im = np.random.randint(j)\n",
        "\n",
        "\n",
        "\n",
        "# Vediamo gli oggetti contenuti in essa...\n",
        "# print(imgs[im])\n",
        "fig, ax = plt.subplots(1)\n",
        "ax.imshow(imgTest[im], origin = 'upper', interpolation = 'quadric', extent=[0, side_dim, side_dim, 0])\n",
        "# ...e i bounding box corrispondenti\n",
        "\n",
        "for i in range (N_bb):\n",
        "  [Pc, x , y, w, h] = pred_bboxes[im, i]\n",
        "  expected_box = Y_test[im,(i*5)+1:(i*5)+5]*side_dim \n",
        "  \n",
        "  x *= side_dim\n",
        "  y *= side_dim\n",
        "  w *= side_dim\n",
        "  h *= side_dim\n",
        "   \n",
        "  rect = patches.Rectangle((x, y) , w, h, ec='r', lw='1.4', fc='none')\n",
        "\n",
        "  dida = 'IoU: ' + '{:0.3f}'.format(IoU([x,y,w,h], expected_box))\n",
        "  plt.annotate(dida, (x + w , y - 0.8), color='r')\n",
        "\n",
        "  print('Test images:', im)\n",
        "  print('Object: ', i+1)\n",
        "  print('B-box confidence:', Pc)\n",
        "  print('B-box coordinates:', '[{:0.2f}'.format(x), '{:0.2f}'.format(y), '{:0.2f}'.format(w), '{:0.2f}]'.format(h))\n",
        "  print('Object coordinates:', expected_box)\n",
        "\n",
        "  ax.add_patch(rect)\n",
        "\n",
        "plt.show()\n"
      ],
      "execution_count": 64,
      "outputs": [
        {
          "output_type": "stream",
          "text": [
            "Test images: 8774\n",
            "Object:  1\n",
            "B-box confidence: 1.000082\n",
            "B-box coordinates: [1.53 5.81 5.47 4.46]\n",
            "Object coordinates: [0. 6. 6. 5.]\n",
            "Test images: 8774\n",
            "Object:  2\n",
            "B-box confidence: 1.0003103\n",
            "B-box coordinates: [5.91 17.19 4.66 4.29]\n",
            "Object coordinates: [ 7. 17.  7.  3.]\n",
            "Test images: 8774\n",
            "Object:  3\n",
            "B-box confidence: 1.0002527\n",
            "B-box coordinates: [13.01 18.69 4.21 4.47]\n",
            "Object coordinates: [14. 20.  3.  5.]\n",
            "Test images: 8774\n",
            "Object:  4\n",
            "B-box confidence: 0.9997961\n",
            "B-box coordinates: [7.87 27.64 3.39 3.10]\n",
            "Object coordinates: [10. 28.  2.  2.]\n"
          ],
          "name": "stdout"
        },
        {
          "output_type": "display_data",
          "data": {
            "image/png": "[encoded data removed]",
            "text/plain": [
              "<matplotlib.figure.Figure at 0x7f27229659b0>"
            ]
          },
          "metadata": {
            "tags": []
          }
        }
      ]
    },
    {
      "metadata": {
        "id": "6i8uBCM6fy4F",
        "colab_type": "code",
        "colab": {}
      },
      "cell_type": "code",
      "source": [
        ""
      ],
      "execution_count": 0,
      "outputs": []
    },
    {
      "metadata": {
        "id": "Nv29q_mWzhZE",
        "colab_type": "code",
        "colab": {
          "base_uri": "https://localhost:8080/",
          "height": 34
        },
        "outputId": "04642a0f-ab0b-4fb0-bce2-961578d3a04d"
      },
      "cell_type": "code",
      "source": [
        "name = 'model_4_100_0'\n",
        "model_name = name + '.json' \n",
        "weight_name = name + 'p50.h5'\n",
        "\n",
        "# serialize model to JSON\n",
        "model_json = model.to_json()\n",
        "with open(model_name, 'w') as json_file:\n",
        "    json_file.write(model_json)\n",
        "# serialize weights to HDF5\n",
        "model.save_weights(weight_name)\n",
        "print('Saved model to disk')\n"
      ],
      "execution_count": 59,
      "outputs": [
        {
          "output_type": "stream",
          "text": [
            "Saved model to disk\n"
          ],
          "name": "stdout"
        }
      ]
    },
    {
      "metadata": {
        "id": "oKVDa9KZqa9w",
        "colab_type": "code",
        "colab": {}
      },
      "cell_type": "code",
      "source": [
        "from keras import backend as K\n",
        "from keras.models import model_from_json\n",
        "K.clear_session()"
      ],
      "execution_count": 0,
      "outputs": []
    },
    {
      "metadata": {
        "id": "ISDb9PK_0L6l",
        "colab_type": "code",
        "colab": {
          "base_uri": "https://localhost:8080/",
          "height": 34
        },
        "outputId": "09ecde02-6ac8-4504-a623-813ba9c31b9a"
      },
      "cell_type": "code",
      "source": [
        "# later...\n",
        " \n",
        "# load json and create model\n",
        "json_file = open(model_name, 'r')\n",
        "loaded_model_json = json_file.read()\n",
        "json_file.close()\n",
        "model = model_from_json(loaded_model_json)\n",
        "# load weights into new model\n",
        "model.load_weights(weight_name)\n",
        "print('Loaded model from disk')"
      ],
      "execution_count": 45,
      "outputs": [
        {
          "output_type": "stream",
          "text": [
            "Loaded model from disk\n"
          ],
          "name": "stdout"
        }
      ]
    },
    {
      "metadata": {
        "id": "SYD6Dmku3roF",
        "colab_type": "code",
        "colab": {
          "base_uri": "https://localhost:8080/",
          "height": 51
        },
        "outputId": "a59a3b44-b2d3-4981-cbac-a64796e5cdb0"
      },
      "cell_type": "code",
      "source": [
        "# evaluate loaded model on test data\n",
        "model.compile('adadelta', 'mse', metrics=['accuracy'])\n",
        "score = model.evaluate(X_train, Y_train, verbose=1)\n",
        "print(\"%s: %.2f%%\" % (loaded_model.metrics_names[1], score[1]*100))"
      ],
      "execution_count": 47,
      "outputs": [
        {
          "output_type": "stream",
          "text": [
            "100000/100000 [==============================] - 14s 139us/step\n",
            "acc: 33.03%\n"
          ],
          "name": "stdout"
        }
      ]
    },
    {
      "metadata": {
        "id": "Sb9Dh2HB3rwr",
        "colab_type": "code",
        "colab": {}
      },
      "cell_type": "code",
      "source": [
        ""
      ],
      "execution_count": 0,
      "outputs": []
    },
    {
      "metadata": {
        "id": "aN7Ut-6s8-Pk",
        "colab_type": "code",
        "colab": {}
      },
      "cell_type": "code",
      "source": [
        ""
      ],
      "execution_count": 0,
      "outputs": []
    },
    {
      "metadata": {
        "id": "n15Fr5G7cLJJ",
        "colab_type": "code",
        "colab": {}
      },
      "cell_type": "code",
      "source": [
        "def dist(box1, box2):\n",
        "  distance = np.sqrt(np.sum(np.square(box1[:2] - box2[:2])))\n",
        "  return distance   "
      ],
      "execution_count": 0,
      "outputs": []
    },
    {
      "metadata": {
        "id": "TOwgjlgHn-Ui",
        "colab_type": "code",
        "colab": {}
      },
      "cell_type": "code",
      "source": [
        "def specialize(pred_bboxes, expe_bboxes, N_bb, sp_type, n_swap):\n",
        "  '''Specialize bounding boxes on better IoU\n",
        "    \n",
        "  Arguments:\n",
        "  pred_bboxes -- predicted bounding boxes (5 x N_bb)\n",
        "  expe_bboxes -- expetcted bounding boxes (5 x N_bb)\n",
        "  \n",
        "  Returns:\n",
        "  new_expe -- new order of expected bounding boxes (5xN_bb)\n",
        "  '''    \n",
        "  py = pred_bboxes.reshape(N_bb, -1) \n",
        "  yy = expe_bboxes.reshape(N_bb, -1)  \n",
        "  \n",
        "  mask_ = np.zeros((N_bb, N_bb)) \n",
        "  \n",
        "  for i in range (N_bb):\n",
        "    for j in range (N_bb):\n",
        "      if sp_type == 'IoU':\n",
        "        mask_[i,j] = IoU(yy[i,2:6], py[j,2:6])\n",
        "      elif sp_type == 'O_d':\n",
        "        mask_[i,j] = dist(yy[i,2:6], py[j,2:6])\n",
        "      elif sp_type == 'mse':\n",
        "        mask_ [i,j] = np.mean(np.square(py[i,2:6] - yy[i,2:6]))\n",
        "    \n",
        "  mask_ += .0001\n",
        "  iou_m = np.zeros((N_bb), dtype=int)\n",
        "  \n",
        "  for i in range (N_bb):\n",
        "    pos_iou = np.unravel_index(np.argmax(mask_), mask_.shape)\n",
        "    iou_m[i] = pos_iou[1]\n",
        "    mask_[pos_iou[0], :] = 0\n",
        "    mask_[:, pos_iou[1]] = 0\n",
        "  \n",
        "  normal = 1. - np.mean(iou_m == np.arange(N_bb, dtype=int))\n",
        "    \n",
        "  if normal != 0:\n",
        "    n_swap += normal/3*2\n",
        "    yy = yy[iou_m]\n",
        "  \n",
        "  swapped = yy.reshape(-1)  \n",
        "\n",
        "  return swapped, n_swap"
      ],
      "execution_count": 0,
      "outputs": []
    },
    {
      "metadata": {
        "id": "JRr9JPnnaph7",
        "colab_type": "code",
        "colab": {}
      },
      "cell_type": "code",
      "source": [
        "n_swap = 0\n",
        "swap_Y = Y_train\n",
        "'''\n",
        "\n",
        "'''\n",
        "\n",
        "n_epoc = 10\n",
        "for epoch in range(n_epoc):\n",
        "  print('Epoch ', epoch+1,'/',n_epoc)                      \n",
        "  model.fit(X_train, swap_Y, epochs=1, validation_data=(X_val, Y_val), verbose=1)\n",
        "  \n",
        "  pred_Y = model.predict(X_train)\n",
        "  if epoch < n_epoc-1:\n",
        "    n_sw = 0\n",
        "    for i, (pred_bboxes, expe_bboxes) in enumerate(zip(pred_Y, swap_Y)):\n",
        "\n",
        "      sp_type = 'mse'     #    'IoU' or 'O_d' or 'mse' \n",
        "      swapped, n_sw = specialize(pred_bboxes, expe_bboxes, N_bb, sp_type, n_sw)\n",
        "      swap_Y[i] = swapped\n",
        "    \n",
        "    n_swap += n_sw\n",
        "  print('Numero swap:', n_sw, 'Totale swap:', n_swap)\n",
        "  print()\n",
        "  \n",
        "'''\n",
        "\n",
        "'''\n"
      ],
      "execution_count": 0,
      "outputs": []
    },
    {
      "metadata": {
        "id": "r0ObafPFLefw",
        "colab_type": "code",
        "colab": {}
      },
      "cell_type": "code",
      "source": [
        "def mask_Pc(bboxes, Pc_th, N_bb):\n",
        "  # creiamo una maschera che azzeri gli y che non servono alla rilevazione\n",
        "  \n",
        "  masked_Pc = np.zeros((bboxes.shape)) - .001\n",
        "  masked_Pc[:,:,0] = Pc_th\n",
        "  mask = masked_Pc < bboxes \n",
        "  for i in range(N_bb):\n",
        "    for j in range(5):\n",
        "      bboxes[:,i,j] = mask[:,i,0] * bboxes[:,i,j]\n",
        "\n",
        "  return bboxes\n",
        "\n",
        "new_Y = mask_Pc(bboxes, Pc_th, N_bb)\n"
      ],
      "execution_count": 0,
      "outputs": []
    },
    {
      "metadata": {
        "id": "9SaWGZzsR9f0",
        "colab_type": "code",
        "outputId": "b95e91b5-b970-4786-821a-7645ac95f5b3",
        "colab": {
          "base_uri": "https://localhost:8080/",
          "height": 34
        }
      },
      "cell_type": "code",
      "source": [
        "new_bboxes = mask_Pc(bboxes, Pc_th, N_bb)\n",
        "print(new_bboxes.shape)"
      ],
      "execution_count": 131,
      "outputs": [
        {
          "output_type": "stream",
          "text": [
            "(12500, 3, 5)\n"
          ],
          "name": "stdout"
        }
      ]
    },
    {
      "metadata": {
        "id": "zE287EduC1lL",
        "colab_type": "code",
        "colab": {}
      },
      "cell_type": "code",
      "source": [
        ""
      ],
      "execution_count": 0,
      "outputs": []
    }
  ]
}