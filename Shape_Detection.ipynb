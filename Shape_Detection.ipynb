{
  "nbformat": 4,
  "nbformat_minor": 0,
  "metadata": {
    "colab": {
      "name": "Shape_Detection.ipynb",
      "version": "0.3.2",
      "provenance": [],
      "toc_visible": true
    },
    "kernelspec": {
      "name": "python3",
      "display_name": "Python 3"
    },
    "accelerator": "GPU"
  },
  "cells": [
    {
      "metadata": {
        "id": "Qncfh05ySrQf",
        "colab_type": "text"
      },
      "cell_type": "markdown",
      "source": [
        "# Object detection in images \n",
        "\n",
        "(tags: CNN, Object detection)\n",
        "\n",
        "This work is inspired [Johannes Rieke article on Medium](https://towardsdatascience.com/object-detection-with-neural-networks-a4e2c46b4491) and by [Andrew Ng's Specialization Course on Deep Learning](https://www.coursera.org/specializations/deep-learning) (the fourth chapter dedicated to the Convolutional Neural Network and the Yolo algorithm).\n",
        "\n",
        "Rieke's work is particularly interesting for the simplicity with which he creates a trainingset for our purpose - that is, developing bounding boxes that identify particular objects in an image. I dedicate myself in particular to the identification of several objects in the same image.\n",
        "\n",
        "Rieke highlights a big risk: in the identification of N objects, the neural network ends up with not specializing and instead it develops 'average' bounding boxes - more or less equal - useless for our purpose. To solve this problem he proposes an algorithm for swapping the targets between one epoch and another.\n",
        "\n",
        "A mechanism that did not convince me for two reasons:\n",
        "\n",
        "- it considerably weighs the algorithm on a computational level (at each time the predictions of the network with the target values are compared).\n",
        "- in the tests I did I could not get out of a sort of perpetual oscillation and at every age the percentage of swaps remained almost unchanged.\n",
        "\n",
        "Conceptually starting from the work of Rieke I propose a solution that makes clear the importance of a preprocessing of our dataset. In fact, I create an order in the target values of our trainingset. I take as reference point the distance from one of the edges of the image (the origin in a coordinate system). \n",
        "\n",
        "As you can see it is an elegant solution that solves the problem upstream. Later I dedicate myself to improving the efficiency of the neural network.\n",
        "\n"
      ]
    },
    {
      "metadata": {
        "id": "uLnCJvC2Sis8",
        "colab_type": "code",
        "colab": {
          "base_uri": "https://localhost:8080/",
          "height": 34
        },
        "outputId": "e0574e94-9b02-4c5c-d977-a165ce1cba98"
      },
      "cell_type": "code",
      "source": [
        "import numpy as np\n",
        "import matplotlib.pyplot as plt\n",
        "import matplotlib.patches as patches\n",
        "import cv2\n",
        "import tensorflow as tf\n",
        "from keras.models import Sequential\n",
        "from keras.layers import Conv2D, MaxPooling2D, Dense, Dropout, Flatten, Input\n",
        "from keras import optimizers\n",
        "\n",
        "%matplotlib inline"
      ],
      "execution_count": 1,
      "outputs": [
        {
          "output_type": "stream",
          "text": [
            "Using TensorFlow backend.\n"
          ],
          "name": "stderr"
        }
      ]
    },
    {
      "metadata": {
        "id": "9FyhER8HdAUz",
        "colab_type": "text"
      },
      "cell_type": "markdown",
      "source": [
        "We create a simple image dataset. Each image will have a maximum size of 32x32 and will contain up to a maximum of N_bb objects (rectangles) with different shades of color. Their size will vary between a minimum of 1x1 and a maximum of 8x8. [To implement : If the color gradation (0-255) is less than or greater than a certain threshold (in our case <64), the object must not be detected.]\n",
        "\n",
        "At the same time we define our bounding boxes. We will use 5 coordinates: a 'Pc', which indicates the percentage of confidence in the presence of an object; 'x' and 'y', for the spatial position of the top-left vertex and 'w' and 'h' for the extension (width and height)."
      ]
    },
    {
      "metadata": {
        "id": "LEhGGX-QS4SO",
        "colab_type": "code",
        "colab": {}
      },
      "cell_type": "code",
      "source": [
        "N_imgs = 12500\n",
        "\n",
        "# imagines side dimension\n",
        "side_dim = 32 # 24\n",
        "\n",
        "# objects min/max side dimensions\n",
        "obj_min_dim = 2\n",
        "obj_max_dim = 8 \n",
        "\n",
        "# number of objects\n",
        "N_bb = 4 # 4\n",
        "\n",
        "# color thresholds\n",
        "min_threshold = 0\n",
        "max_threshold = 124\n",
        "\n",
        "# confidence threshold\n",
        "Pc_th = .0\n",
        "\n",
        "# inizialization of images with a light gray color (just for aesthetic reasons)\n",
        "imgs = np.ones((N_imgs, side_dim, side_dim,3)) * .9 \n",
        "\n",
        "# inizialization of bounding boxes\n",
        "bounding_boxes = np.zeros((N_imgs, N_bb, 5))\n",
        "\n",
        "# inizialization of origin distance array\n",
        "distance = np.zeros((N_imgs, N_bb))\n",
        "\n",
        "# creation of objects in images and relative bounding boxes\n",
        "\n",
        "for N_img in range(N_imgs):\n",
        "    for i_ogg in range(N_bb):\n",
        "        w = np.random.randint(obj_min_dim, obj_max_dim)\n",
        "        h = np.random.randint(obj_min_dim, obj_max_dim)\n",
        "        x = np.random.randint(0, side_dim - w)\n",
        "        y = np.random.randint(0, side_dim - h)\n",
        "          \n",
        "        R = (np.random.randint(min_threshold, max_threshold)) / 255\n",
        "        G = (np.random.randint(min_threshold, max_threshold)) / 255\n",
        "        B = (np.random.randint(min_threshold, max_threshold)) / 255\n",
        "        \n",
        "        imgs[N_img, y:y+h, x:x+w, 0] = R \n",
        "        imgs[N_img, y:y+h, x:x+w, 1] = G \n",
        "        imgs[N_img, y:y+h, x:x+w, 2] = B \n",
        "        \n",
        "\n",
        "        Pc = 1. # for the moment we use for all target value Pc = 1\n",
        "        bounding_boxes[N_img, i_ogg] = [Pc, x, y, w, h]   \n",
        "        \n",
        "        # we calculate the distance from the origin for each Bounding Box\n",
        "        distance[N_img, i_ogg] = np.sqrt(np.square(x+(w/2))+ np.square(y+(h/2)))\n"
      ],
      "execution_count": 0,
      "outputs": []
    },
    {
      "metadata": {
        "id": "TGK4cCnHlJ2G",
        "colab_type": "text"
      },
      "cell_type": "markdown",
      "source": [
        "## Observation and pre-processing\n",
        "First we analyze our datasets and start preprocessing them"
      ]
    },
    {
      "metadata": {
        "id": "jUY7g8MIlfpG",
        "colab_type": "code",
        "outputId": "a5ef1023-cd51-4842-aa41-7afbf55e9be3",
        "colab": {
          "base_uri": "https://localhost:8080/",
          "height": 68
        }
      },
      "cell_type": "code",
      "source": [
        "# Let's look at the size of the Numpy arrays for images and bboxes \n",
        "print('Dimension of images array:', imgs.shape)\n",
        "print('Dimension of BBoxes array:', bounding_boxes.shape)\n",
        "print('Dimension of distance array:', distance.shape)"
      ],
      "execution_count": 3,
      "outputs": [
        {
          "output_type": "stream",
          "text": [
            "Dimension of images array: (12500, 32, 32, 3)\n",
            "Dimension of BBoxes array: (12500, 4, 5)\n",
            "Dimension of distance array: (12500, 4)\n"
          ],
          "name": "stdout"
        }
      ]
    },
    {
      "metadata": {
        "id": "fPeK79wgVDXu",
        "colab_type": "code",
        "outputId": "9958e0da-4713-4587-c2c8-9da8cb6cb770",
        "colab": {
          "base_uri": "https://localhost:8080/",
          "height": 286
        }
      },
      "cell_type": "code",
      "source": [
        "# We take a random image of our training set\n",
        "im = np.random.randint(N_imgs)\n",
        "print('Imagine n.', im)\n",
        "\n",
        "# Let's look the objects contained in it...\n",
        "fig, ax = plt.subplots(1)\n",
        "ax.imshow(imgs[im], origin = 'upper', interpolation = 'quadric', extent=[0, side_dim, side_dim, 0])\n",
        "\n",
        "# ...and the corresponding bounding boxes\n",
        "for i in range (N_bb):\n",
        "  [Pc, x, y, w, h] = bounding_boxes[im, i]\n",
        "\n",
        "# we consider only a percentage of confidence above the Pc_th\n",
        "# (in our datasets we have Pc with values 0 or 1) but later\n",
        "# Pc will assume probabilistic values between 0 and 1\n",
        "  if Pc >= Pc_th:\n",
        "    rect = patches.Rectangle((x, y) , w, h, ec='r', lw='1.6', fc='none')\n",
        "    ax.add_patch(rect)\n",
        "\n",
        "plt.show()"
      ],
      "execution_count": 4,
      "outputs": [
        {
          "output_type": "stream",
          "text": [
            "Imagine n. 8634\n"
          ],
          "name": "stdout"
        },
        {
          "output_type": "display_data",
          "data": {
            "image/png": "[encoded data removed]",
            "text/plain": [
              "<matplotlib.figure.Figure at 0x7f3f2c46b748>"
            ]
          },
          "metadata": {
            "tags": []
          }
        }
      ]
    },
    {
      "metadata": {
        "id": "b0idcZGhsjXG",
        "colab_type": "code",
        "outputId": "352a460b-6d6b-4c9c-ecdc-0fc02f2304e3",
        "colab": {
          "base_uri": "https://localhost:8080/",
          "height": 291
        }
      },
      "cell_type": "code",
      "source": [
        "# We look at the image again, this time highlighting the distance of the objects from the origin ...\n",
        "fig, ax = plt.subplots(1)\n",
        "\n",
        "ax.imshow(imgs[im], origin = 'upper', interpolation = 'hanning', extent=[0, side_dim, side_dim, 0])\n",
        "\n",
        "for i in range (N_bb):\n",
        "  [Pc, x, y, w, h] = bounding_boxes[im, i]\n",
        "\n",
        "  if Pc >= Pc_th:\n",
        "    line = patches.Arrow(0, 0, x+(w/2), y+(h/2), .2, ec='r') \n",
        "    ax.add_patch(line)\n",
        "    dida = 'dist: ' + '{:0.1f}'.format(distance[im,i])\n",
        "    plt.annotate(dida, (x + w + 0.8 , y - 0.8), color='r')\n",
        "\n",
        "plt.show()"
      ],
      "execution_count": 5,
      "outputs": [
        {
          "output_type": "display_data",
          "data": {
            "image/png": "[encoded data removed]",
            "text/plain": [
              "<matplotlib.figure.Figure at 0x7f3f2c3e9518>"
            ]
          },
          "metadata": {
            "tags": []
          }
        }
      ]
    },
    {
      "metadata": {
        "id": "3ZmynTypGD2p",
        "colab_type": "text"
      },
      "cell_type": "markdown",
      "source": [
        "We rearrange the bounding boxes based on the distance from the origin of the objects"
      ]
    },
    {
      "metadata": {
        "id": "5gBRsop_d6t1",
        "colab_type": "code",
        "colab": {}
      },
      "cell_type": "code",
      "source": [
        "order = np.zeros((N_imgs, N_bb), dtype=int)\n",
        "bboxes = np.zeros(bounding_boxes.shape)\n",
        "\n",
        "for i in range(N_imgs):\n",
        "  order[i] = np.argsort(distance[i]) \n",
        "  for j in range(N_bb):\n",
        "    bboxes[i,j] = (bounding_boxes[i, order[i,j]])"
      ],
      "execution_count": 0,
      "outputs": []
    },
    {
      "metadata": {
        "id": "FVTByunkgLCA",
        "colab_type": "text"
      },
      "cell_type": "markdown",
      "source": [
        "Let's start thinking in terms of Machine Learning. \n",
        "So we normalize the pixel values contained in our images to have values between -1 and 1 and transfer them to the input X values.\n",
        "\n",
        "Similarly we normalize the geometric values of our bboxes with respect to the size of the images."
      ]
    },
    {
      "metadata": {
        "id": "YSkMI1oUc0A-",
        "colab_type": "code",
        "outputId": "796aa710-25fa-4d3e-ddc4-4d8e021d4cbb",
        "colab": {
          "base_uri": "https://localhost:8080/",
          "height": 51
        }
      },
      "cell_type": "code",
      "source": [
        "X = (imgs - np.mean(imgs)) / np.std(imgs)\n",
        "X = np.reshape(X, (N_imgs, side_dim, side_dim, 3))\n",
        "print(X.shape, np.mean(imgs), np.std(imgs))\n",
        "\n",
        "\n",
        "Y = np.concatenate((bboxes[:,:, :1], (bboxes[:,:, 1:]/side_dim)), axis=-1)\n",
        "Y = Y.reshape(N_imgs, -1) \n",
        "print(Y.shape)"
      ],
      "execution_count": 7,
      "outputs": [
        {
          "output_type": "stream",
          "text": [
            "(12500, 32, 32, 3) 0.8496948295036785 0.17927577363401823\n",
            "(12500, 20)\n"
          ],
          "name": "stdout"
        }
      ]
    },
    {
      "metadata": {
        "id": "TZQ-YIJYHDGr",
        "colab_type": "text"
      },
      "cell_type": "markdown",
      "source": [
        "Below we see an example of our X values"
      ]
    },
    {
      "metadata": {
        "id": "fkQt2zrRp1Hz",
        "colab_type": "code",
        "outputId": "1e4893cd-242a-43e1-fd89-b98dc52ce0be",
        "colab": {
          "base_uri": "https://localhost:8080/",
          "height": 918
        }
      },
      "cell_type": "code",
      "source": [
        "i = np.random.randint(N_imgs)\n",
        "print('Images example', i, 'has shape:\\n', X[i].shape, '\\n')\n",
        "print('And this is its values:\\n', X[i])"
      ],
      "execution_count": 8,
      "outputs": [
        {
          "output_type": "stream",
          "text": [
            "Images example 10747 has shape:\n",
            " (32, 32, 3) \n",
            "\n",
            "And this is its values:\n",
            " [[[0.28060217 0.28060217 0.28060217]\n",
            "  [0.28060217 0.28060217 0.28060217]\n",
            "  [0.28060217 0.28060217 0.28060217]\n",
            "  ...\n",
            "  [0.28060217 0.28060217 0.28060217]\n",
            "  [0.28060217 0.28060217 0.28060217]\n",
            "  [0.28060217 0.28060217 0.28060217]]\n",
            "\n",
            " [[0.28060217 0.28060217 0.28060217]\n",
            "  [0.28060217 0.28060217 0.28060217]\n",
            "  [0.28060217 0.28060217 0.28060217]\n",
            "  ...\n",
            "  [0.28060217 0.28060217 0.28060217]\n",
            "  [0.28060217 0.28060217 0.28060217]\n",
            "  [0.28060217 0.28060217 0.28060217]]\n",
            "\n",
            " [[0.28060217 0.28060217 0.28060217]\n",
            "  [0.28060217 0.28060217 0.28060217]\n",
            "  [0.28060217 0.28060217 0.28060217]\n",
            "  ...\n",
            "  [0.28060217 0.28060217 0.28060217]\n",
            "  [0.28060217 0.28060217 0.28060217]\n",
            "  [0.28060217 0.28060217 0.28060217]]\n",
            "\n",
            " ...\n",
            "\n",
            " [[0.28060217 0.28060217 0.28060217]\n",
            "  [0.28060217 0.28060217 0.28060217]\n",
            "  [0.28060217 0.28060217 0.28060217]\n",
            "  ...\n",
            "  [0.28060217 0.28060217 0.28060217]\n",
            "  [0.28060217 0.28060217 0.28060217]\n",
            "  [0.28060217 0.28060217 0.28060217]]\n",
            "\n",
            " [[0.28060217 0.28060217 0.28060217]\n",
            "  [0.28060217 0.28060217 0.28060217]\n",
            "  [0.28060217 0.28060217 0.28060217]\n",
            "  ...\n",
            "  [0.28060217 0.28060217 0.28060217]\n",
            "  [0.28060217 0.28060217 0.28060217]\n",
            "  [0.28060217 0.28060217 0.28060217]]\n",
            "\n",
            " [[0.28060217 0.28060217 0.28060217]\n",
            "  [0.28060217 0.28060217 0.28060217]\n",
            "  [0.28060217 0.28060217 0.28060217]\n",
            "  ...\n",
            "  [0.28060217 0.28060217 0.28060217]\n",
            "  [0.28060217 0.28060217 0.28060217]\n",
            "  [0.28060217 0.28060217 0.28060217]]]\n"
          ],
          "name": "stdout"
        }
      ]
    },
    {
      "metadata": {
        "id": "NMDsjFW6HGpP",
        "colab_type": "text"
      },
      "cell_type": "markdown",
      "source": [
        "And then we observe one of our Y target values"
      ]
    },
    {
      "metadata": {
        "id": "aH2NUIkQHGbS",
        "colab_type": "code",
        "outputId": "8bd52360-a52d-4fb0-84c5-70829031bed1",
        "colab": {
          "base_uri": "https://localhost:8080/",
          "height": 85
        }
      },
      "cell_type": "code",
      "source": [
        "print('...and the target values Y are:\\n', Y[3])"
      ],
      "execution_count": 9,
      "outputs": [
        {
          "output_type": "stream",
          "text": [
            "...and the target values Y are:\n",
            " [1.      0.34375 0.34375 0.21875 0.125   1.      0.375   0.40625 0.125\n",
            " 0.0625  1.      0.09375 0.59375 0.0625  0.09375 1.      0.65625 0.8125\n",
            " 0.125   0.0625 ]\n"
          ],
          "name": "stdout"
        }
      ]
    },
    {
      "metadata": {
        "id": "4CDu5pmrnQ8h",
        "colab_type": "text"
      },
      "cell_type": "markdown",
      "source": [
        "We have a homogeneous dataset of the N_imgs elements that we now share in Training set, Validation set, and Test set in relation 80%, 10%, 10%."
      ]
    },
    {
      "metadata": {
        "id": "Z9_AAOlaXGsU",
        "colab_type": "code",
        "outputId": "7716ae45-34e4-4271-db8d-2b8995ec2558",
        "colab": {
          "base_uri": "https://localhost:8080/",
          "height": 68
        }
      },
      "cell_type": "code",
      "source": [
        "i = int(0.8 * N_imgs)\n",
        "j = int(0.1 * N_imgs)\n",
        "\n",
        "X_train = X[:i]\n",
        "Y_train = Y[:i]\n",
        "train_ex = X_train.shape[0]\n",
        "\n",
        "X_val = X[i:i+j]\n",
        "Y_val = Y[i:i+j]\n",
        "val_ex = X_val.shape[0]\n",
        "\n",
        "X_test = X[i+j:]\n",
        "Y_test = Y[i+j:]\n",
        "test_ex = X_test.shape[0]\n",
        "\n",
        "dim_test = j # useful for the future \n",
        "\n",
        "print('Below the dimensions of X and Y for Training set, Validation set, and Test set respectively\\n')\n",
        "print(X_train.shape, Y_train.shape, X_val.shape, Y_val.shape, X_test.shape, Y_test.shape)"
      ],
      "execution_count": 10,
      "outputs": [
        {
          "output_type": "stream",
          "text": [
            "Below the dimensions of X and Y for Training set, Validation set, and Test set respectively\n",
            "\n",
            "(10000, 32, 32, 3) (10000, 20) (1250, 32, 32, 3) (1250, 20) (1250, 32, 32, 3) (1250, 20)\n"
          ],
          "name": "stdout"
        }
      ]
    },
    {
      "metadata": {
        "id": "DD5di2m3ZkR1",
        "colab_type": "text"
      },
      "cell_type": "markdown",
      "source": [
        "## The Neural Network\n",
        "Following our DNN model, is inspired by other detection algorithms and uses three pairs of CNN-MaxPooling layers followed by two fully connected layers, for a total of about 460 thousand parameters."
      ]
    },
    {
      "metadata": {
        "id": "qij_SpFYmFXt",
        "colab_type": "code",
        "outputId": "03c6b8bc-1218-4d0f-f85c-389b772d29c8",
        "colab": {
          "base_uri": "https://localhost:8080/",
          "height": 510
        }
      },
      "cell_type": "code",
      "source": [
        "model = Sequential()\n",
        "model.add(Conv2D(48, kernel_size=(8, 8), strides=2, padding='same', activation='relu', input_shape=(side_dim,side_dim,3), data_format='channels_last'))\n",
        "model.add(MaxPooling2D(pool_size=(2, 2), strides=2, padding='valid'))\n",
        "model.add(Conv2D(96, kernel_size=(4, 4), strides=1, padding='same', activation='relu'))\n",
        "model.add(MaxPooling2D(pool_size=(2, 2), strides=2, padding='valid'))\n",
        "model.add(Conv2D(192, kernel_size=(2, 2), strides=1, padding='same', activation='relu'))\n",
        "model.add(MaxPooling2D(pool_size=(2, 2), strides=2, padding='valid'))\n",
        "model.add(Flatten())\n",
        "model.add(Dropout(.4))\n",
        "model.add(Dense(384, activation='relu'))\n",
        "model.add(Dropout(.4))\n",
        "model.add(Dense(Y.shape[-1]))\n",
        "\n",
        "summ = model.summary()"
      ],
      "execution_count": 11,
      "outputs": [
        {
          "output_type": "stream",
          "text": [
            "_________________________________________________________________\n",
            "Layer (type)                 Output Shape              Param #   \n",
            "=================================================================\n",
            "conv2d_1 (Conv2D)            (None, 16, 16, 48)        9264      \n",
            "_________________________________________________________________\n",
            "max_pooling2d_1 (MaxPooling2 (None, 8, 8, 48)          0         \n",
            "_________________________________________________________________\n",
            "conv2d_2 (Conv2D)            (None, 8, 8, 96)          73824     \n",
            "_________________________________________________________________\n",
            "max_pooling2d_2 (MaxPooling2 (None, 4, 4, 96)          0         \n",
            "_________________________________________________________________\n",
            "conv2d_3 (Conv2D)            (None, 4, 4, 192)         73920     \n",
            "_________________________________________________________________\n",
            "max_pooling2d_3 (MaxPooling2 (None, 2, 2, 192)         0         \n",
            "_________________________________________________________________\n",
            "flatten_1 (Flatten)          (None, 768)               0         \n",
            "_________________________________________________________________\n",
            "dropout_1 (Dropout)          (None, 768)               0         \n",
            "_________________________________________________________________\n",
            "dense_1 (Dense)              (None, 384)               295296    \n",
            "_________________________________________________________________\n",
            "dropout_2 (Dropout)          (None, 384)               0         \n",
            "_________________________________________________________________\n",
            "dense_2 (Dense)              (None, 20)                7700      \n",
            "=================================================================\n",
            "Total params: 460,004\n",
            "Trainable params: 460,004\n",
            "Non-trainable params: 0\n",
            "_________________________________________________________________\n"
          ],
          "name": "stdout"
        }
      ]
    },
    {
      "metadata": {
        "id": "Nqd8xak8bjZb",
        "colab_type": "text"
      },
      "cell_type": "markdown",
      "source": [
        "At least for the moment we do not worry too much about the efficiency of the loss function and the optimization algorithm. We use the Mean Squared Error for the first and Adadelta for the second."
      ]
    },
    {
      "metadata": {
        "id": "eG5l2VySr6Cr",
        "colab_type": "code",
        "colab": {}
      },
      "cell_type": "code",
      "source": [
        "model.compile('adadelta', 'mse', metrics=['accuracy'])"
      ],
      "execution_count": 0,
      "outputs": []
    },
    {
      "metadata": {
        "id": "E8KjSeIjb0TB",
        "colab_type": "text"
      },
      "cell_type": "markdown",
      "source": [
        "Let's start with a cycle of 100 epochs,"
      ]
    },
    {
      "metadata": {
        "id": "BTg--dQ7643f",
        "colab_type": "code",
        "outputId": "be1c3033-d555-4d21-ebbd-8cfe40c9a62f",
        "colab": {
          "base_uri": "https://localhost:8080/",
          "height": 544
        }
      },
      "cell_type": "code",
      "source": [
        "history = model.fit(X_train, Y_train, epochs=15, validation_data=(X_val, Y_val), batch_size=16, verbose=1)"
      ],
      "execution_count": 13,
      "outputs": [
        {
          "output_type": "stream",
          "text": [
            "Train on 10000 samples, validate on 1250 samples\n",
            "Epoch 1/15\n",
            "10000/10000 [==============================] - 9s 852us/step - loss: 0.0261 - acc: 0.2455 - val_loss: 0.0124 - val_acc: 0.0608\n",
            "Epoch 2/15\n",
            "10000/10000 [==============================] - 7s 683us/step - loss: 0.0143 - acc: 0.2462 - val_loss: 0.0103 - val_acc: 0.1704\n",
            "Epoch 3/15\n",
            "10000/10000 [==============================] - 7s 686us/step - loss: 0.0123 - acc: 0.2369 - val_loss: 0.0095 - val_acc: 0.1912\n",
            "Epoch 4/15\n",
            "10000/10000 [==============================] - 7s 687us/step - loss: 0.0111 - acc: 0.2392 - val_loss: 0.0092 - val_acc: 0.1832\n",
            "Epoch 5/15\n",
            "10000/10000 [==============================] - 7s 685us/step - loss: 0.0103 - acc: 0.2345 - val_loss: 0.0088 - val_acc: 0.1712\n",
            "Epoch 6/15\n",
            "10000/10000 [==============================] - 7s 681us/step - loss: 0.0098 - acc: 0.2375 - val_loss: 0.0082 - val_acc: 0.3280\n",
            "Epoch 7/15\n",
            "10000/10000 [==============================] - 7s 677us/step - loss: 0.0094 - acc: 0.2339 - val_loss: 0.0082 - val_acc: 0.1648\n",
            "Epoch 8/15\n",
            "10000/10000 [==============================] - 7s 675us/step - loss: 0.0091 - acc: 0.2385 - val_loss: 0.0078 - val_acc: 0.2568\n",
            "Epoch 9/15\n",
            "10000/10000 [==============================] - 7s 675us/step - loss: 0.0087 - acc: 0.2280 - val_loss: 0.0074 - val_acc: 0.1752\n",
            "Epoch 10/15\n",
            "10000/10000 [==============================] - 7s 674us/step - loss: 0.0085 - acc: 0.2408 - val_loss: 0.0073 - val_acc: 0.2000\n",
            "Epoch 11/15\n",
            "10000/10000 [==============================] - 7s 678us/step - loss: 0.0082 - acc: 0.2407 - val_loss: 0.0073 - val_acc: 0.1832\n",
            "Epoch 12/15\n",
            "10000/10000 [==============================] - 7s 677us/step - loss: 0.0080 - acc: 0.2434 - val_loss: 0.0069 - val_acc: 0.1696\n",
            "Epoch 13/15\n",
            "10000/10000 [==============================] - 7s 682us/step - loss: 0.0078 - acc: 0.2392 - val_loss: 0.0067 - val_acc: 0.1200\n",
            "Epoch 14/15\n",
            "10000/10000 [==============================] - 7s 677us/step - loss: 0.0076 - acc: 0.2385 - val_loss: 0.0066 - val_acc: 0.1536\n",
            "Epoch 15/15\n",
            "10000/10000 [==============================] - 7s 671us/step - loss: 0.0074 - acc: 0.2351 - val_loss: 0.0064 - val_acc: 0.1920\n"
          ],
          "name": "stdout"
        }
      ]
    },
    {
      "metadata": {
        "id": "hwz09-H-dV7F",
        "colab_type": "text"
      },
      "cell_type": "markdown",
      "source": [
        "##Observation of results\n",
        "We evaluate the results obtained. We use the Test Set for predictions and define a metric, the IoU (Intersection over Union) that supports those we already have for the training phase - that is, loss error and accuracy.\n",
        "\n",
        "The Intersection over Union is an incredibly effective measure to understand how much our forecasts approach the correct bounding boxes of the objects in the images. It has values that oscillate between 0 and 1 and the closer they are to 1, the more the area of our predictions approaches that of the correct bounding boxes.\n",
        "\n",
        "But first let's take a look at our predictions."
      ]
    },
    {
      "metadata": {
        "id": "p0VX1wHk_fXb",
        "colab_type": "code",
        "outputId": "eb2f911b-355d-4795-9545-c9272c442b8c",
        "colab": {
          "base_uri": "https://localhost:8080/",
          "height": 34
        }
      },
      "cell_type": "code",
      "source": [
        "# The predictions of the neural network using our Test set as input\n",
        "pred_y = model.predict(X_test)\n",
        "pred_bboxes = pred_y\n",
        "pred_bboxes = pred_bboxes.reshape(len(pred_bboxes), N_bb, -1)\n",
        "pred_bboxes.shape"
      ],
      "execution_count": 14,
      "outputs": [
        {
          "output_type": "execute_result",
          "data": {
            "text/plain": [
              "(1250, 4, 5)"
            ]
          },
          "metadata": {
            "tags": []
          },
          "execution_count": 14
        }
      ]
    },
    {
      "metadata": {
        "id": "f6DgzkS3ZUAi",
        "colab_type": "code",
        "colab": {}
      },
      "cell_type": "code",
      "source": [
        "# We define one of the reference metrics to analyze our results\n",
        "# the Intersection over Union that measures the correspondence \n",
        "# of our predictions with the actual bounding boxes\n",
        "\n",
        "def IoU(box1, box2):\n",
        "  '''Intersection over Union (IoU) between box1 and box2\n",
        "    \n",
        "  Arguments:\n",
        "  box1 -- first box, with coordinates (x1, y1, w1, h1)\n",
        "  box2 -- second box, with coordinates (x2, y2, w2, h2)\n",
        "  \n",
        "  Returns:\n",
        "  iou -- scalar\n",
        "  '''    \n",
        "  [x1, y1, w1, h1] = box1\n",
        "  [x2, y2, w2, h2] = box2\n",
        "    \n",
        "  # Intesection area \n",
        "  xi1 = np.maximum(x1, x2)\n",
        "  yi1 = np.maximum(y1, y2)\n",
        "  xi2 = np.minimum(x1+w1, x2+w2)\n",
        "  yi2 = np.minimum(y1+h1, y2+h2)\n",
        "  xi = np.maximum(0., xi2-xi1)\n",
        "  yi = np.maximum(0., yi2-yi1)\n",
        "  \n",
        "  inter_area = np.multiply(xi,yi)\n",
        "\n",
        "  # Union area\n",
        "  box1_area = (w1*h1)\n",
        "  box2_area = (w2*h2)\n",
        "  union_area = box1_area+box2_area-inter_area\n",
        "  \n",
        "  # Calculation of IoU\n",
        "  iou = inter_area/union_area\n",
        "\n",
        "  return iou\n"
      ],
      "execution_count": 0,
      "outputs": []
    },
    {
      "metadata": {
        "id": "qkrHhPsK_pJu",
        "colab_type": "code",
        "outputId": "6494245a-58f7-44af-fa7e-dced89c4525e",
        "colab": {
          "base_uri": "https://localhost:8080/",
          "height": 611
        }
      },
      "cell_type": "code",
      "source": [
        "imgTest = (np.reshape(X_test, (dim_test, side_dim, side_dim, 3)) * np.std(imgs)) + np.mean(imgs)\n",
        "\n",
        "# Consider a random image of our Test set\n",
        "im = np.random.randint(dim_test)\n",
        "\n",
        "\n",
        "\n",
        "# We look at the objects contained in it...\n",
        "fig, ax = plt.subplots(1)\n",
        "ax.imshow(imgTest[im], origin = 'upper', interpolation = 'quadric', extent=[0, side_dim, side_dim, 0])\n",
        "\n",
        "# ...and the bounding boxes predicted by the algorithm\n",
        "for i in range (N_bb):\n",
        "  [Pc, x , y, w, h] = pred_bboxes[im, i]\n",
        "  expected_box = Y_test[im,(i*5)+1:(i*5)+5]*side_dim \n",
        "  \n",
        "  x *= side_dim\n",
        "  y *= side_dim\n",
        "  w *= side_dim\n",
        "  h *= side_dim\n",
        "   \n",
        "  rect = patches.Rectangle((x, y) , w, h, ec='r', lw='1.4', fc='none')\n",
        "\n",
        "  dida = 'IoU: ' + '{:0.3f}'.format(IoU([x,y,w,h], expected_box))\n",
        "  plt.annotate(dida, (x + w , y - 0.8), color='r')\n",
        "\n",
        "  print('Test images:', im)\n",
        "  print('Object: ', i+1)\n",
        "  print('B-box confidence:', Pc)\n",
        "  print('B-box coordinates:', '[{:0.2f}'.format(x), '{:0.2f}'.format(y), '{:0.2f}'.format(w), '{:0.2f}]'.format(h))\n",
        "  print('Object coordinates:', expected_box)\n",
        "\n",
        "  ax.add_patch(rect)\n",
        "\n",
        "plt.show()\n"
      ],
      "execution_count": 16,
      "outputs": [
        {
          "output_type": "stream",
          "text": [
            "Test images: 1182\n",
            "Object:  1\n",
            "B-box confidence: 0.9926732\n",
            "B-box coordinates: [6.84 1.22 4.27 4.20]\n",
            "Object coordinates: [7. 0. 2. 5.]\n",
            "Test images: 1182\n",
            "Object:  2\n",
            "B-box confidence: 0.987296\n",
            "B-box coordinates: [12.96 7.04 4.26 4.07]\n",
            "Object coordinates: [9. 8. 3. 6.]\n",
            "Test images: 1182\n",
            "Object:  3\n",
            "B-box confidence: 0.9970391\n",
            "B-box coordinates: [19.77 12.19 4.43 4.56]\n",
            "Object coordinates: [21.  9.  3.  5.]\n",
            "Test images: 1182\n",
            "Object:  4\n",
            "B-box confidence: 0.99298537\n",
            "B-box coordinates: [23.74 25.96 4.12 3.86]\n",
            "Object coordinates: [24. 28.  7.  2.]\n"
          ],
          "name": "stdout"
        },
        {
          "output_type": "display_data",
          "data": {
            "image/png": "[encoded data removed]",
            "text/plain": [
              "<matplotlib.figure.Figure at 0x7f3f2c3df940>"
            ]
          },
          "metadata": {
            "tags": []
          }
        }
      ]
    },
    {
      "metadata": {
        "id": "PVaTaXkm8wet",
        "colab_type": "text"
      },
      "cell_type": "markdown",
      "source": [
        "### Valutazione dei risultati\n",
        "Now we evaluate the results, first by calculating the average IoU for predictions on our Test set."
      ]
    },
    {
      "metadata": {
        "id": "6i8uBCM6fy4F",
        "colab_type": "code",
        "outputId": "8395b170-4b08-42e2-db40-9fb22b3030dc",
        "colab": {
          "base_uri": "https://localhost:8080/",
          "height": 34
        }
      },
      "cell_type": "code",
      "source": [
        "pred_bboxes.shape, expe_bboxes.shape"
      ],
      "execution_count": 17,
      "outputs": [
        {
          "output_type": "execute_result",
          "data": {
            "text/plain": [
              "((1250, 4, 5), (1250, 4, 5))"
            ]
          },
          "metadata": {
            "tags": []
          },
          "execution_count": 17
        }
      ]
    },
    {
      "metadata": {
        "id": "Sb9Dh2HB3rwr",
        "colab_type": "code",
        "colab": {}
      },
      "cell_type": "code",
      "source": [
        "# We measure the average IoU of the whole test set \n",
        "def mean_IoU(Y_test, pred_bboxes, dim_test, N_bb):\n",
        "  expe_bboxes = Y_test.reshape(dim_test, N_bb, -1)\n",
        "  IoU_test = np.zeros((dim_test, N_bb)) \n",
        "  iou_global = 0\n",
        "  for i in range(dim_test):\n",
        "    for j in range(N_bb):\n",
        "      IoU_test[i,j] = IoU(pred_bboxes[i,j,1:], expe_bboxes[i,j,1:])\n",
        "\n",
        "  iou_global = np.mean(IoU_test)\n",
        "  return iou_global\n"
      ],
      "execution_count": 0,
      "outputs": []
    },
    {
      "metadata": {
        "id": "bCSmyMg7pR-y",
        "colab_type": "text"
      },
      "cell_type": "markdown",
      "source": [
        "**Mean Intersection over Union of all Test set:** "
      ]
    },
    {
      "metadata": {
        "id": "0Uplatfo8buT",
        "colab_type": "code",
        "outputId": "1d164d30-cdbe-4a1f-f0aa-6a8e3f005968",
        "colab": {
          "base_uri": "https://localhost:8080/",
          "height": 34
        }
      },
      "cell_type": "code",
      "source": [
        "print(mean_IoU(Y_test, pred_bboxes, dim_test, N_bb))"
      ],
      "execution_count": 19,
      "outputs": [
        {
          "output_type": "stream",
          "text": [
            "0.1882167596366457\n"
          ],
          "name": "stdout"
        }
      ]
    },
    {
      "metadata": {
        "id": "M7SbB4uzf3Kq",
        "colab_type": "text"
      },
      "cell_type": "markdown",
      "source": [
        "Let's now put on a graph the progress of the training phase for the Training set and the Validation set, with a graph for Accuracy and another for the Loss."
      ]
    },
    {
      "metadata": {
        "id": "wcTEWu8BaI4P",
        "colab_type": "code",
        "outputId": "9082e7d3-8c77-407b-a13e-827c807505aa",
        "colab": {
          "base_uri": "https://localhost:8080/",
          "height": 571
        }
      },
      "cell_type": "code",
      "source": [
        "# Plot training & validation accuracy values\n",
        "plt.plot(history.history['acc'])\n",
        "plt.plot(history.history['val_acc'])\n",
        "plt.title('Model accuracy')\n",
        "plt.ylabel('Accuracy')\n",
        "plt.xlabel('Epoch')\n",
        "plt.legend(['Train', 'Validation'], loc='upper left')\n",
        "plt.show()\n",
        "\n",
        "# Plot training & validation loss values\n",
        "plt.plot(history.history['loss'])\n",
        "plt.plot(history.history['val_loss'])\n",
        "plt.title('Model loss')\n",
        "plt.ylabel('Loss')\n",
        "plt.xlabel('Epoch')\n",
        "plt.legend(['Train', 'Validation'], loc='upper left')\n",
        "plt.show()"
      ],
      "execution_count": 20,
      "outputs": [
        {
          "output_type": "display_data",
          "data": {
            "image/png": "[encoded data removed]",
            "text/plain": [
              "<matplotlib.figure.Figure at 0x7f3f22c01b00>"
            ]
          },
          "metadata": {
            "tags": []
          }
        },
        {
          "output_type": "display_data",
          "data": {
            "image/png": "[encoded data removed]",
            "text/plain": [
              "<matplotlib.figure.Figure at 0x7f3f22c14c88>"
            ]
          },
          "metadata": {
            "tags": []
          }
        }
      ]
    },
    {
      "metadata": {
        "id": "VCLgeAu8mYUH",
        "colab_type": "text"
      },
      "cell_type": "markdown",
      "source": [
        "The graphs show how the network is learning. "
      ]
    },
    {
      "metadata": {
        "id": "RiaPsXtQkBmL",
        "colab_type": "text"
      },
      "cell_type": "markdown",
      "source": [
        "##Conclusions\n",
        "The experiment described lasted just a couple of minutes taking advantage of the Google Colab GPU. Even so, it shows the learning ability of the algorithm and the effectiveness of the solution we have adopted to avoid falling into the problem exposed by Rieke.\n",
        "<br/><br/>\n",
        "As shown below, the same network trained for 100 epochs (in a dozen minutes) continues to learn up to a certain point (the Loss Validation Error has a different trend compared to the Loss Training Error). While the average IoU rises to values above 0.23. "
      ]
    },
    {
      "metadata": {
        "id": "VvORHiVomF9A",
        "colab_type": "code",
        "colab": {}
      },
      "cell_type": "code",
      "source": [
        "\n",
        "history = model.fit(X_train, Y_train, epochs=100, validation_data=(X_val, Y_val), batch_size=16, verbose=1)"
      ],
      "execution_count": 0,
      "outputs": []
    },
    {
      "metadata": {
        "id": "3xI5ph-7qmpn",
        "colab_type": "code",
        "colab": {
          "base_uri": "https://localhost:8080/",
          "height": 34
        },
        "outputId": "c0bcca63-4791-472f-e13f-fd16925e7cb6"
      },
      "cell_type": "code",
      "source": [
        "# The predictions of the neural network using our Test set as input\n",
        "pred_y = model.predict(X_test)\n",
        "pred_bboxes = pred_y\n",
        "pred_bboxes = pred_bboxes.reshape(len(pred_bboxes), N_bb, -1)\n",
        "pred_bboxes.shape"
      ],
      "execution_count": 27,
      "outputs": [
        {
          "output_type": "execute_result",
          "data": {
            "text/plain": [
              "(1250, 4, 5)"
            ]
          },
          "metadata": {
            "tags": []
          },
          "execution_count": 27
        }
      ]
    },
    {
      "metadata": {
        "id": "FRD7_HRDqEWn",
        "colab_type": "code",
        "colab": {
          "base_uri": "https://localhost:8080/",
          "height": 34
        },
        "outputId": "733c876a-d318-4c06-e183-95902faeed55"
      },
      "cell_type": "code",
      "source": [
        "print('Test set IoU:', mean_IoU(Y_test, pred_bboxes, dim_test, N_bb))"
      ],
      "execution_count": 39,
      "outputs": [
        {
          "output_type": "stream",
          "text": [
            "Test set IoU: 0.23645680831040444\n"
          ],
          "name": "stdout"
        }
      ]
    },
    {
      "metadata": {
        "id": "jHcjuSdxvk_1",
        "colab_type": "code",
        "colab": {
          "base_uri": "https://localhost:8080/",
          "height": 609
        },
        "outputId": "4f99b9e5-5491-49dc-9508-3880684c7d34"
      },
      "cell_type": "code",
      "source": [
        "imgTest = (np.reshape(X_test, (dim_test, side_dim, side_dim, 3)) * np.std(imgs)) + np.mean(imgs)\n",
        "\n",
        "# Consider a random image of our Test set\n",
        "im = np.random.randint(dim_test)\n",
        "\n",
        "\n",
        "\n",
        "# We look at the objects contained in it...\n",
        "fig, ax = plt.subplots(1)\n",
        "ax.imshow(imgTest[im], origin = 'upper', interpolation = 'quadric', extent=[0, side_dim, side_dim, 0])\n",
        "\n",
        "# ...and the bounding boxes predicted by the algorithm\n",
        "for i in range (N_bb):\n",
        "  [Pc, x , y, w, h] = pred_bboxes[im, i]\n",
        "  expected_box = Y_test[im,(i*5)+1:(i*5)+5]*side_dim \n",
        "  \n",
        "  x *= side_dim\n",
        "  y *= side_dim\n",
        "  w *= side_dim\n",
        "  h *= side_dim\n",
        "   \n",
        "  rect = patches.Rectangle((x, y) , w, h, ec='r', lw='1.4', fc='none')\n",
        "\n",
        "  dida = 'IoU: ' + '{:0.3f}'.format(IoU([x,y,w,h], expected_box))\n",
        "  plt.annotate(dida, (x + w , y - 0.8), color='r')\n",
        "\n",
        "  print('Test images:', im)\n",
        "  print('Object: ', i+1)\n",
        "  print('B-box confidence:', Pc)\n",
        "  print('B-box coordinates:', '[{:0.2f}'.format(x), '{:0.2f}'.format(y), '{:0.2f}'.format(w), '{:0.2f}]'.format(h))\n",
        "  print('Object coordinates:', expected_box)\n",
        "\n",
        "  ax.add_patch(rect)\n",
        "\n",
        "plt.show()"
      ],
      "execution_count": 42,
      "outputs": [
        {
          "output_type": "stream",
          "text": [
            "Test images: 941\n",
            "Object:  1\n",
            "B-box confidence: 1.0006901\n",
            "B-box coordinates: [15.27 3.56 4.52 4.59]\n",
            "Object coordinates: [15.  4.  3.  4.]\n",
            "Test images: 941\n",
            "Object:  2\n",
            "B-box confidence: 1.0008166\n",
            "B-box coordinates: [8.61 19.31 4.67 4.50]\n",
            "Object coordinates: [10. 15.  3.  5.]\n",
            "Test images: 941\n",
            "Object:  3\n",
            "B-box confidence: 1.0001205\n",
            "B-box coordinates: [22.06 12.50 4.05 4.67]\n",
            "Object coordinates: [20. 16.  4.  3.]\n",
            "Test images: 941\n",
            "Object:  4\n",
            "B-box confidence: 0.9997215\n",
            "B-box coordinates: [25.45 9.64 3.51 4.97]\n",
            "Object coordinates: [26.  7.  5.  5.]\n"
          ],
          "name": "stdout"
        },
        {
          "output_type": "display_data",
          "data": {
            "image/png": "[encoded data removed]",
            "text/plain": [
              "<matplotlib.figure.Figure at 0x7f3f20509470>"
            ]
          },
          "metadata": {
            "tags": []
          }
        }
      ]
    },
    {
      "metadata": {
        "id": "EMbcUZIrpFZp",
        "colab_type": "code",
        "colab": {
          "base_uri": "https://localhost:8080/",
          "height": 571
        },
        "outputId": "27425bc3-f821-419f-c764-8623ce5b4de8"
      },
      "cell_type": "code",
      "source": [
        "# Plot training & validation accuracy values\n",
        "plt.plot(history.history['acc'])\n",
        "plt.plot(history.history['val_acc'])\n",
        "plt.title('Model accuracy')\n",
        "plt.ylabel('Accuracy')\n",
        "plt.xlabel('Epoch')\n",
        "plt.legend(['Train', 'Validation'], loc='upper left')\n",
        "plt.show()\n",
        "\n",
        "# Plot training & validation loss values\n",
        "plt.plot(history.history['loss'])\n",
        "plt.plot(history.history['val_loss'])\n",
        "plt.title('Model loss')\n",
        "plt.ylabel('Loss')\n",
        "plt.xlabel('Epoch')\n",
        "plt.legend(['Train', 'Validation'], loc='upper left')\n",
        "plt.show()"
      ],
      "execution_count": 36,
      "outputs": [
        {
          "output_type": "display_data",
          "data": {
            "image/png": "[encoded data removed]",
            "text/plain": [
              "<matplotlib.figure.Figure at 0x7f3f20583898>"
            ]
          },
          "metadata": {
            "tags": []
          }
        },
        {
          "output_type": "display_data",
          "data": {
            "image/png": "[encoded data removed]",
            "text/plain": [
              "<matplotlib.figure.Figure at 0x7f3f205757b8>"
            ]
          },
          "metadata": {
            "tags": []
          }
        }
      ]
    },
    {
      "metadata": {
        "id": "nOM3zBbKowTh",
        "colab_type": "text"
      },
      "cell_type": "markdown",
      "source": [
        "As the trend for the Validation set shows, accuracy fluctuates between rather low values, this depends on the particular shape of our target values. More indicative is the increase in accuracy of the OU and the visualization of the results themselves.\n",
        "\n",
        "Anyway, the network is certainly improvable. From this base I will carry out other experiments on other Jupyter notebooks by carefully tuning hyperparations, using larger and more complex datasets."
      ]
    },
    {
      "metadata": {
        "id": "OAE8Of6jvcP4",
        "colab_type": "code",
        "colab": {}
      },
      "cell_type": "code",
      "source": [
        ""
      ],
      "execution_count": 0,
      "outputs": []
    }
  ]
}